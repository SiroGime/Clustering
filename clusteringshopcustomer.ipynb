{
 "cells": [
  {
   "cell_type": "markdown",
   "id": "40d52f84",
   "metadata": {
    "papermill": {
     "duration": 0.012984,
     "end_time": "2023-05-04T22:17:29.826791",
     "exception": false,
     "start_time": "2023-05-04T22:17:29.813807",
     "status": "completed"
    },
    "tags": []
   },
   "source": [
    "> ## Formulación del problema"
   ]
  },
  {
   "cell_type": "markdown",
   "id": "c57b7fff",
   "metadata": {
    "papermill": {
     "duration": 0.010497,
     "end_time": "2023-05-04T22:17:29.847991",
     "exception": false,
     "start_time": "2023-05-04T22:17:29.837494",
     "status": "completed"
    },
    "tags": []
   },
   "source": [
    "Shop Customer Data is a detailed analysis of a imaginative shop's ideal customers. It helps a business to better understand its customers. The owner of a shop gets information about Customers through membership cards.\n",
    "\n",
    "Dataset consists of 2000 records and 8 columns:\n",
    "\n",
    "* Customer ID\n",
    "* Gender\n",
    "* Age\n",
    "* Annual Income\n",
    "* Spending Score - Score assigned by the shop, based on customer behavior and spending nature\n",
    "* Profession\n",
    "* Work Experience - in years\n",
    "* Family Size"
   ]
  },
  {
   "cell_type": "markdown",
   "id": "a696fe86",
   "metadata": {
    "papermill": {
     "duration": 0.010194,
     "end_time": "2023-05-04T22:17:29.868483",
     "exception": false,
     "start_time": "2023-05-04T22:17:29.858289",
     "status": "completed"
    },
    "tags": []
   },
   "source": [
    "> ## Recolección de datos\n",
    "* #### Link: https://www.kaggle.com/datasets/datascientistanna/customers-dataset"
   ]
  },
  {
   "cell_type": "code",
   "execution_count": 1,
   "id": "39cbda96",
   "metadata": {
    "execution": {
     "iopub.execute_input": "2023-05-04T22:17:29.890876Z",
     "iopub.status.busy": "2023-05-04T22:17:29.889952Z",
     "iopub.status.idle": "2023-05-04T22:17:29.909245Z",
     "shell.execute_reply": "2023-05-04T22:17:29.908393Z"
    },
    "papermill": {
     "duration": 0.033188,
     "end_time": "2023-05-04T22:17:29.911780",
     "exception": false,
     "start_time": "2023-05-04T22:17:29.878592",
     "status": "completed"
    },
    "tags": []
   },
   "outputs": [
    {
     "name": "stdout",
     "output_type": "stream",
     "text": [
      "/kaggle/input/customers-dataset/Customers.csv\n"
     ]
    }
   ],
   "source": [
    "import numpy as np \n",
    "import pandas as pd \n",
    "\n",
    "import os\n",
    "for dirname, _, filenames in os.walk('/kaggle/input'):\n",
    "    for filename in filenames:\n",
    "        print(os.path.join(dirname, filename))"
   ]
  },
  {
   "cell_type": "code",
   "execution_count": 2,
   "id": "01becdee",
   "metadata": {
    "execution": {
     "iopub.execute_input": "2023-05-04T22:17:29.936241Z",
     "iopub.status.busy": "2023-05-04T22:17:29.935507Z",
     "iopub.status.idle": "2023-05-04T22:17:29.986529Z",
     "shell.execute_reply": "2023-05-04T22:17:29.985431Z"
    },
    "papermill": {
     "duration": 0.065538,
     "end_time": "2023-05-04T22:17:29.989021",
     "exception": false,
     "start_time": "2023-05-04T22:17:29.923483",
     "status": "completed"
    },
    "tags": []
   },
   "outputs": [
    {
     "data": {
      "text/html": [
       "<div>\n",
       "<style scoped>\n",
       "    .dataframe tbody tr th:only-of-type {\n",
       "        vertical-align: middle;\n",
       "    }\n",
       "\n",
       "    .dataframe tbody tr th {\n",
       "        vertical-align: top;\n",
       "    }\n",
       "\n",
       "    .dataframe thead th {\n",
       "        text-align: right;\n",
       "    }\n",
       "</style>\n",
       "<table border=\"1\" class=\"dataframe\">\n",
       "  <thead>\n",
       "    <tr style=\"text-align: right;\">\n",
       "      <th></th>\n",
       "      <th>CustomerID</th>\n",
       "      <th>Gender</th>\n",
       "      <th>Age</th>\n",
       "      <th>Annual Income ($)</th>\n",
       "      <th>Spending Score (1-100)</th>\n",
       "      <th>Profession</th>\n",
       "      <th>Work Experience</th>\n",
       "      <th>Family Size</th>\n",
       "    </tr>\n",
       "  </thead>\n",
       "  <tbody>\n",
       "    <tr>\n",
       "      <th>0</th>\n",
       "      <td>1</td>\n",
       "      <td>Male</td>\n",
       "      <td>19</td>\n",
       "      <td>15000</td>\n",
       "      <td>39</td>\n",
       "      <td>Healthcare</td>\n",
       "      <td>1</td>\n",
       "      <td>4</td>\n",
       "    </tr>\n",
       "    <tr>\n",
       "      <th>1</th>\n",
       "      <td>2</td>\n",
       "      <td>Male</td>\n",
       "      <td>21</td>\n",
       "      <td>35000</td>\n",
       "      <td>81</td>\n",
       "      <td>Engineer</td>\n",
       "      <td>3</td>\n",
       "      <td>3</td>\n",
       "    </tr>\n",
       "    <tr>\n",
       "      <th>2</th>\n",
       "      <td>3</td>\n",
       "      <td>Female</td>\n",
       "      <td>20</td>\n",
       "      <td>86000</td>\n",
       "      <td>6</td>\n",
       "      <td>Engineer</td>\n",
       "      <td>1</td>\n",
       "      <td>1</td>\n",
       "    </tr>\n",
       "    <tr>\n",
       "      <th>3</th>\n",
       "      <td>4</td>\n",
       "      <td>Female</td>\n",
       "      <td>23</td>\n",
       "      <td>59000</td>\n",
       "      <td>77</td>\n",
       "      <td>Lawyer</td>\n",
       "      <td>0</td>\n",
       "      <td>2</td>\n",
       "    </tr>\n",
       "    <tr>\n",
       "      <th>4</th>\n",
       "      <td>5</td>\n",
       "      <td>Female</td>\n",
       "      <td>31</td>\n",
       "      <td>38000</td>\n",
       "      <td>40</td>\n",
       "      <td>Entertainment</td>\n",
       "      <td>2</td>\n",
       "      <td>6</td>\n",
       "    </tr>\n",
       "  </tbody>\n",
       "</table>\n",
       "</div>"
      ],
      "text/plain": [
       "   CustomerID  Gender  Age  Annual Income ($)  Spending Score (1-100)  \\\n",
       "0           1    Male   19              15000                      39   \n",
       "1           2    Male   21              35000                      81   \n",
       "2           3  Female   20              86000                       6   \n",
       "3           4  Female   23              59000                      77   \n",
       "4           5  Female   31              38000                      40   \n",
       "\n",
       "      Profession  Work Experience  Family Size  \n",
       "0     Healthcare                1            4  \n",
       "1       Engineer                3            3  \n",
       "2       Engineer                1            1  \n",
       "3         Lawyer                0            2  \n",
       "4  Entertainment                2            6  "
      ]
     },
     "execution_count": 2,
     "metadata": {},
     "output_type": "execute_result"
    }
   ],
   "source": [
    "data = pd.read_csv(\"/kaggle/input/customers-dataset/Customers.csv\")\n",
    "data.head()"
   ]
  },
  {
   "cell_type": "markdown",
   "id": "ba6d70fc",
   "metadata": {
    "papermill": {
     "duration": 0.010508,
     "end_time": "2023-05-04T22:17:30.010226",
     "exception": false,
     "start_time": "2023-05-04T22:17:29.999718",
     "status": "completed"
    },
    "tags": []
   },
   "source": [
    "> ## Exploración de datos"
   ]
  },
  {
   "cell_type": "code",
   "execution_count": 3,
   "id": "d5161332",
   "metadata": {
    "execution": {
     "iopub.execute_input": "2023-05-04T22:17:30.033284Z",
     "iopub.status.busy": "2023-05-04T22:17:30.032860Z",
     "iopub.status.idle": "2023-05-04T22:17:30.039712Z",
     "shell.execute_reply": "2023-05-04T22:17:30.038573Z"
    },
    "papermill": {
     "duration": 0.021148,
     "end_time": "2023-05-04T22:17:30.042065",
     "exception": false,
     "start_time": "2023-05-04T22:17:30.020917",
     "status": "completed"
    },
    "tags": []
   },
   "outputs": [
    {
     "data": {
      "text/plain": [
       "(2000, 8)"
      ]
     },
     "execution_count": 3,
     "metadata": {},
     "output_type": "execute_result"
    }
   ],
   "source": [
    "data.shape"
   ]
  },
  {
   "cell_type": "code",
   "execution_count": 4,
   "id": "e4b5299e",
   "metadata": {
    "execution": {
     "iopub.execute_input": "2023-05-04T22:17:30.065523Z",
     "iopub.status.busy": "2023-05-04T22:17:30.065110Z",
     "iopub.status.idle": "2023-05-04T22:17:30.073616Z",
     "shell.execute_reply": "2023-05-04T22:17:30.072352Z"
    },
    "papermill": {
     "duration": 0.022983,
     "end_time": "2023-05-04T22:17:30.075937",
     "exception": false,
     "start_time": "2023-05-04T22:17:30.052954",
     "status": "completed"
    },
    "tags": []
   },
   "outputs": [
    {
     "data": {
      "text/plain": [
       "CustomerID                 int64\n",
       "Gender                    object\n",
       "Age                        int64\n",
       "Annual Income ($)          int64\n",
       "Spending Score (1-100)     int64\n",
       "Profession                object\n",
       "Work Experience            int64\n",
       "Family Size                int64\n",
       "dtype: object"
      ]
     },
     "execution_count": 4,
     "metadata": {},
     "output_type": "execute_result"
    }
   ],
   "source": [
    "data.dtypes"
   ]
  },
  {
   "cell_type": "code",
   "execution_count": 5,
   "id": "f741eff8",
   "metadata": {
    "execution": {
     "iopub.execute_input": "2023-05-04T22:17:30.099963Z",
     "iopub.status.busy": "2023-05-04T22:17:30.099582Z",
     "iopub.status.idle": "2023-05-04T22:17:30.111965Z",
     "shell.execute_reply": "2023-05-04T22:17:30.110770Z"
    },
    "papermill": {
     "duration": 0.027112,
     "end_time": "2023-05-04T22:17:30.114298",
     "exception": false,
     "start_time": "2023-05-04T22:17:30.087186",
     "status": "completed"
    },
    "tags": []
   },
   "outputs": [
    {
     "data": {
      "text/plain": [
       "CustomerID                 0\n",
       "Gender                     0\n",
       "Age                        0\n",
       "Annual Income ($)          0\n",
       "Spending Score (1-100)     0\n",
       "Profession                35\n",
       "Work Experience            0\n",
       "Family Size                0\n",
       "dtype: int64"
      ]
     },
     "execution_count": 5,
     "metadata": {},
     "output_type": "execute_result"
    }
   ],
   "source": [
    "data.isnull().sum()"
   ]
  },
  {
   "cell_type": "code",
   "execution_count": 6,
   "id": "2571df1d",
   "metadata": {
    "execution": {
     "iopub.execute_input": "2023-05-04T22:17:30.138129Z",
     "iopub.status.busy": "2023-05-04T22:17:30.137723Z",
     "iopub.status.idle": "2023-05-04T22:17:30.153560Z",
     "shell.execute_reply": "2023-05-04T22:17:30.152735Z"
    },
    "papermill": {
     "duration": 0.030492,
     "end_time": "2023-05-04T22:17:30.155868",
     "exception": false,
     "start_time": "2023-05-04T22:17:30.125376",
     "status": "completed"
    },
    "tags": []
   },
   "outputs": [
    {
     "data": {
      "text/plain": [
       "0"
      ]
     },
     "execution_count": 6,
     "metadata": {},
     "output_type": "execute_result"
    }
   ],
   "source": [
    "data.duplicated().sum()"
   ]
  },
  {
   "cell_type": "code",
   "execution_count": 7,
   "id": "a5ea9a32",
   "metadata": {
    "execution": {
     "iopub.execute_input": "2023-05-04T22:17:30.180987Z",
     "iopub.status.busy": "2023-05-04T22:17:30.180571Z",
     "iopub.status.idle": "2023-05-04T22:17:30.203654Z",
     "shell.execute_reply": "2023-05-04T22:17:30.202270Z"
    },
    "papermill": {
     "duration": 0.038698,
     "end_time": "2023-05-04T22:17:30.206022",
     "exception": false,
     "start_time": "2023-05-04T22:17:30.167324",
     "status": "completed"
    },
    "tags": []
   },
   "outputs": [
    {
     "name": "stdout",
     "output_type": "stream",
     "text": [
      "<class 'pandas.core.frame.DataFrame'>\n",
      "RangeIndex: 2000 entries, 0 to 1999\n",
      "Data columns (total 8 columns):\n",
      " #   Column                  Non-Null Count  Dtype \n",
      "---  ------                  --------------  ----- \n",
      " 0   CustomerID              2000 non-null   int64 \n",
      " 1   Gender                  2000 non-null   object\n",
      " 2   Age                     2000 non-null   int64 \n",
      " 3   Annual Income ($)       2000 non-null   int64 \n",
      " 4   Spending Score (1-100)  2000 non-null   int64 \n",
      " 5   Profession              1965 non-null   object\n",
      " 6   Work Experience         2000 non-null   int64 \n",
      " 7   Family Size             2000 non-null   int64 \n",
      "dtypes: int64(6), object(2)\n",
      "memory usage: 125.1+ KB\n"
     ]
    }
   ],
   "source": [
    "data.info()"
   ]
  },
  {
   "cell_type": "markdown",
   "id": "b3e7a0a8",
   "metadata": {
    "papermill": {
     "duration": 0.010815,
     "end_time": "2023-05-04T22:17:30.227932",
     "exception": false,
     "start_time": "2023-05-04T22:17:30.217117",
     "status": "completed"
    },
    "tags": []
   },
   "source": [
    "### Descripción del dataset\n",
    "* #### Contiene 2000 filas y 8 columnas/variables.\n",
    "* #### Hay dos variables categóricas y 6 numéricas.\n",
    "* #### Hay 35 valores nulos en la columna \"Profession\".\n",
    "* #### No tiene filas duplicadas."
   ]
  },
  {
   "cell_type": "markdown",
   "id": "cc979550",
   "metadata": {
    "papermill": {
     "duration": 0.010627,
     "end_time": "2023-05-04T22:17:30.250109",
     "exception": false,
     "start_time": "2023-05-04T22:17:30.239482",
     "status": "completed"
    },
    "tags": []
   },
   "source": [
    "### Análisis de variables.\n",
    "* ### Variables numéricas"
   ]
  },
  {
   "cell_type": "code",
   "execution_count": 8,
   "id": "80712c15",
   "metadata": {
    "execution": {
     "iopub.execute_input": "2023-05-04T22:17:30.273982Z",
     "iopub.status.busy": "2023-05-04T22:17:30.273563Z",
     "iopub.status.idle": "2023-05-04T22:17:30.281334Z",
     "shell.execute_reply": "2023-05-04T22:17:30.280491Z"
    },
    "papermill": {
     "duration": 0.022231,
     "end_time": "2023-05-04T22:17:30.283336",
     "exception": false,
     "start_time": "2023-05-04T22:17:30.261105",
     "status": "completed"
    },
    "tags": []
   },
   "outputs": [
    {
     "data": {
      "text/plain": [
       "(['CustomerID',\n",
       "  'Age',\n",
       "  'Annual Income ($)',\n",
       "  'Spending Score (1-100)',\n",
       "  'Work Experience',\n",
       "  'Family Size'],\n",
       " ['Gender', 'Profession'])"
      ]
     },
     "execution_count": 8,
     "metadata": {},
     "output_type": "execute_result"
    }
   ],
   "source": [
    "var_num = [col for col in data.columns if data[col].dtypes not in [\"object\"]]\n",
    "var_cat = [col for col in data.columns if data[col].dtypes in [\"object\"]]\n",
    "var_num, var_cat"
   ]
  },
  {
   "cell_type": "code",
   "execution_count": 9,
   "id": "04579f51",
   "metadata": {
    "execution": {
     "iopub.execute_input": "2023-05-04T22:17:30.307852Z",
     "iopub.status.busy": "2023-05-04T22:17:30.307445Z",
     "iopub.status.idle": "2023-05-04T22:17:31.621265Z",
     "shell.execute_reply": "2023-05-04T22:17:31.619937Z"
    },
    "papermill": {
     "duration": 1.32953,
     "end_time": "2023-05-04T22:17:31.624117",
     "exception": false,
     "start_time": "2023-05-04T22:17:30.294587",
     "status": "completed"
    },
    "tags": []
   },
   "outputs": [
    {
     "name": "stderr",
     "output_type": "stream",
     "text": [
      "/opt/conda/lib/python3.10/site-packages/scipy/__init__.py:146: UserWarning: A NumPy version >=1.16.5 and <1.23.0 is required for this version of SciPy (detected version 1.23.5\n",
      "  warnings.warn(f\"A NumPy version >={np_minversion} and <{np_maxversion}\"\n"
     ]
    }
   ],
   "source": [
    "import matplotlib.pyplot as plt\n",
    "import seaborn as sns\n",
    "from IPython.display import display"
   ]
  },
  {
   "cell_type": "code",
   "execution_count": 10,
   "id": "c4b11fe1",
   "metadata": {
    "execution": {
     "iopub.execute_input": "2023-05-04T22:17:31.650000Z",
     "iopub.status.busy": "2023-05-04T22:17:31.649578Z",
     "iopub.status.idle": "2023-05-04T22:17:34.193924Z",
     "shell.execute_reply": "2023-05-04T22:17:34.193116Z"
    },
    "papermill": {
     "duration": 2.560516,
     "end_time": "2023-05-04T22:17:34.196691",
     "exception": false,
     "start_time": "2023-05-04T22:17:31.636175",
     "status": "completed"
    },
    "tags": []
   },
   "outputs": [
    {
     "data": {
      "image/png": "[encoded data removed]",
      "text/plain": [
       "<Figure size 1000x400 with 2 Axes>"
      ]
     },
     "metadata": {},
     "output_type": "display_data"
    },
    {
     "name": "stdout",
     "output_type": "stream",
     "text": [
      "\n"
     ]
    },
    {
     "data": {
      "text/plain": [
       "count    2000.000000\n",
       "mean     1000.500000\n",
       "std       577.494589\n",
       "min         1.000000\n",
       "25%       500.750000\n",
       "50%      1000.500000\n",
       "75%      1500.250000\n",
       "max      2000.000000\n",
       "Name: CustomerID, dtype: float64"
      ]
     },
     "metadata": {},
     "output_type": "display_data"
    },
    {
     "name": "stdout",
     "output_type": "stream",
     "text": [
      "------------------------------------------------------------------------------------------------------------------------\n"
     ]
    },
    {
     "data": {
      "image/png": "[encoded data removed]",
      "text/plain": [
       "<Figure size 1000x400 with 2 Axes>"
      ]
     },
     "metadata": {},
     "output_type": "display_data"
    },
    {
     "name": "stdout",
     "output_type": "stream",
     "text": [
      "\n"
     ]
    },
    {
     "data": {
      "text/plain": [
       "count    2000.000000\n",
       "mean       48.960000\n",
       "std        28.429747\n",
       "min         0.000000\n",
       "25%        25.000000\n",
       "50%        48.000000\n",
       "75%        73.000000\n",
       "max        99.000000\n",
       "Name: Age, dtype: float64"
      ]
     },
     "metadata": {},
     "output_type": "display_data"
    },
    {
     "name": "stdout",
     "output_type": "stream",
     "text": [
      "------------------------------------------------------------------------------------------------------------------------\n"
     ]
    },
    {
     "data": {
      "image/png": "[encoded data removed]",
      "text/plain": [
       "<Figure size 1000x400 with 2 Axes>"
      ]
     },
     "metadata": {},
     "output_type": "display_data"
    },
    {
     "name": "stdout",
     "output_type": "stream",
     "text": [
      "\n"
     ]
    },
    {
     "data": {
      "text/plain": [
       "count      2000.000000\n",
       "mean     110731.821500\n",
       "std       45739.536688\n",
       "min           0.000000\n",
       "25%       74572.000000\n",
       "50%      110045.000000\n",
       "75%      149092.750000\n",
       "max      189974.000000\n",
       "Name: Annual Income ($), dtype: float64"
      ]
     },
     "metadata": {},
     "output_type": "display_data"
    },
    {
     "name": "stdout",
     "output_type": "stream",
     "text": [
      "------------------------------------------------------------------------------------------------------------------------\n"
     ]
    },
    {
     "data": {
      "image/png": "[encoded data removed]",
      "text/plain": [
       "<Figure size 1000x400 with 2 Axes>"
      ]
     },
     "metadata": {},
     "output_type": "display_data"
    },
    {
     "name": "stdout",
     "output_type": "stream",
     "text": [
      "\n"
     ]
    },
    {
     "data": {
      "text/plain": [
       "count    2000.000000\n",
       "mean       50.962500\n",
       "std        27.934661\n",
       "min         0.000000\n",
       "25%        28.000000\n",
       "50%        50.000000\n",
       "75%        75.000000\n",
       "max       100.000000\n",
       "Name: Spending Score (1-100), dtype: float64"
      ]
     },
     "metadata": {},
     "output_type": "display_data"
    },
    {
     "name": "stdout",
     "output_type": "stream",
     "text": [
      "------------------------------------------------------------------------------------------------------------------------\n"
     ]
    },
    {
     "data": {
      "image/png": "[encoded data removed]",
      "text/plain": [
       "<Figure size 1000x400 with 2 Axes>"
      ]
     },
     "metadata": {},
     "output_type": "display_data"
    },
    {
     "name": "stdout",
     "output_type": "stream",
     "text": [
      "\n"
     ]
    },
    {
     "data": {
      "text/plain": [
       "count    2000.000000\n",
       "mean        4.102500\n",
       "std         3.922204\n",
       "min         0.000000\n",
       "25%         1.000000\n",
       "50%         3.000000\n",
       "75%         7.000000\n",
       "max        17.000000\n",
       "Name: Work Experience, dtype: float64"
      ]
     },
     "metadata": {},
     "output_type": "display_data"
    },
    {
     "name": "stdout",
     "output_type": "stream",
     "text": [
      "------------------------------------------------------------------------------------------------------------------------\n"
     ]
    },
    {
     "data": {
      "image/png": "[encoded data removed]",
      "text/plain": [
       "<Figure size 1000x400 with 2 Axes>"
      ]
     },
     "metadata": {},
     "output_type": "display_data"
    },
    {
     "name": "stdout",
     "output_type": "stream",
     "text": [
      "\n"
     ]
    },
    {
     "data": {
      "text/plain": [
       "count    2000.000000\n",
       "mean        3.768500\n",
       "std         1.970749\n",
       "min         1.000000\n",
       "25%         2.000000\n",
       "50%         4.000000\n",
       "75%         5.000000\n",
       "max         9.000000\n",
       "Name: Family Size, dtype: float64"
      ]
     },
     "metadata": {},
     "output_type": "display_data"
    },
    {
     "name": "stdout",
     "output_type": "stream",
     "text": [
      "------------------------------------------------------------------------------------------------------------------------\n"
     ]
    }
   ],
   "source": [
    "for col in var_num:\n",
    "    plt.figure(figsize=(10,4))\n",
    "    \n",
    "    plt.subplot(1,2,1)\n",
    "    sns.histplot(x=data[col], kde=True)\n",
    "    plt.title(col+\" histplot\")\n",
    "    \n",
    "    plt.subplot(1,2,2)\n",
    "    sns.boxplot(data[col])\n",
    "    plt.title(col+\" boxplot\")\n",
    "    \n",
    "    plt.show()\n",
    "    \n",
    "    print()\n",
    "    display(data[col].describe())\n",
    "    print(\"-\"*120)"
   ]
  },
  {
   "cell_type": "markdown",
   "id": "f878290f",
   "metadata": {
    "papermill": {
     "duration": 0.015596,
     "end_time": "2023-05-04T22:17:34.228247",
     "exception": false,
     "start_time": "2023-05-04T22:17:34.212651",
     "status": "completed"
    },
    "tags": []
   },
   "source": [
    "* ### Variables categóricas"
   ]
  },
  {
   "cell_type": "code",
   "execution_count": 11,
   "id": "c0743a63",
   "metadata": {
    "execution": {
     "iopub.execute_input": "2023-05-04T22:17:34.263273Z",
     "iopub.status.busy": "2023-05-04T22:17:34.262190Z",
     "iopub.status.idle": "2023-05-04T22:17:34.895455Z",
     "shell.execute_reply": "2023-05-04T22:17:34.894270Z"
    },
    "papermill": {
     "duration": 0.653091,
     "end_time": "2023-05-04T22:17:34.897976",
     "exception": false,
     "start_time": "2023-05-04T22:17:34.244885",
     "status": "completed"
    },
    "tags": []
   },
   "outputs": [
    {
     "data": {
      "image/png": "[encoded data removed]",
      "text/plain": [
       "<Figure size 1000x400 with 1 Axes>"
      ]
     },
     "metadata": {},
     "output_type": "display_data"
    },
    {
     "name": "stdout",
     "output_type": "stream",
     "text": [
      "\n"
     ]
    },
    {
     "data": {
      "text/plain": [
       "Gender\n",
       "Female    1186\n",
       "Male       814\n",
       "dtype: int64"
      ]
     },
     "metadata": {},
     "output_type": "display_data"
    },
    {
     "name": "stdout",
     "output_type": "stream",
     "text": [
      "--------------------------------------------------------------------------------\n"
     ]
    },
    {
     "data": {
      "image/png": "[encoded data removed]",
      "text/plain": [
       "<Figure size 1000x400 with 1 Axes>"
      ]
     },
     "metadata": {},
     "output_type": "display_data"
    },
    {
     "name": "stdout",
     "output_type": "stream",
     "text": [
      "\n"
     ]
    },
    {
     "data": {
      "text/plain": [
       "Profession\n",
       "Artist           612\n",
       "Doctor           161\n",
       "Engineer         179\n",
       "Entertainment    234\n",
       "Executive        153\n",
       "Healthcare       339\n",
       "Homemaker         60\n",
       "Lawyer           142\n",
       "Marketing         85\n",
       "dtype: int64"
      ]
     },
     "metadata": {},
     "output_type": "display_data"
    },
    {
     "name": "stdout",
     "output_type": "stream",
     "text": [
      "--------------------------------------------------------------------------------\n"
     ]
    }
   ],
   "source": [
    "for col in var_cat:\n",
    "    plt.figure(figsize=(10,4))\n",
    "    \n",
    "    plt.subplot(1,2,1)\n",
    "    sns.countplot(x=data[col])\n",
    "    plt.xticks(rotation=60)\n",
    "    plt.title(col+\" countplot\")\n",
    "    \n",
    "    plt.show()\n",
    "    \n",
    "    print()\n",
    "    display(data.groupby(col).size())\n",
    "    print(\"-\"*80)"
   ]
  },
  {
   "cell_type": "markdown",
   "id": "f87697c6",
   "metadata": {
    "papermill": {
     "duration": 0.01808,
     "end_time": "2023-05-04T22:17:34.933746",
     "exception": false,
     "start_time": "2023-05-04T22:17:34.915666",
     "status": "completed"
    },
    "tags": []
   },
   "source": [
    "> ## Preprocesado de datos.\n",
    "\n",
    "* #### Eliminar las filas con valores nulos.\n",
    "* #### Eliminar la columna \"CustomerID\" ya que no aporta nada en el modelo.\n",
    "* #### Transformar las variables categóricas en variables dummies.\n",
    "* #### Normalizar el dataset."
   ]
  },
  {
   "cell_type": "code",
   "execution_count": 12,
   "id": "1743a376",
   "metadata": {
    "execution": {
     "iopub.execute_input": "2023-05-04T22:17:34.970781Z",
     "iopub.status.busy": "2023-05-04T22:17:34.969846Z",
     "iopub.status.idle": "2023-05-04T22:17:34.984239Z",
     "shell.execute_reply": "2023-05-04T22:17:34.983007Z"
    },
    "papermill": {
     "duration": 0.035483,
     "end_time": "2023-05-04T22:17:34.986381",
     "exception": false,
     "start_time": "2023-05-04T22:17:34.950898",
     "status": "completed"
    },
    "tags": []
   },
   "outputs": [
    {
     "data": {
      "text/html": [
       "<div>\n",
       "<style scoped>\n",
       "    .dataframe tbody tr th:only-of-type {\n",
       "        vertical-align: middle;\n",
       "    }\n",
       "\n",
       "    .dataframe tbody tr th {\n",
       "        vertical-align: top;\n",
       "    }\n",
       "\n",
       "    .dataframe thead th {\n",
       "        text-align: right;\n",
       "    }\n",
       "</style>\n",
       "<table border=\"1\" class=\"dataframe\">\n",
       "  <thead>\n",
       "    <tr style=\"text-align: right;\">\n",
       "      <th></th>\n",
       "      <th>CustomerID</th>\n",
       "      <th>Gender</th>\n",
       "      <th>Age</th>\n",
       "      <th>Annual Income ($)</th>\n",
       "      <th>Spending Score (1-100)</th>\n",
       "      <th>Profession</th>\n",
       "      <th>Work Experience</th>\n",
       "      <th>Family Size</th>\n",
       "    </tr>\n",
       "  </thead>\n",
       "  <tbody>\n",
       "    <tr>\n",
       "      <th>0</th>\n",
       "      <td>1</td>\n",
       "      <td>Male</td>\n",
       "      <td>19</td>\n",
       "      <td>15000</td>\n",
       "      <td>39</td>\n",
       "      <td>Healthcare</td>\n",
       "      <td>1</td>\n",
       "      <td>4</td>\n",
       "    </tr>\n",
       "    <tr>\n",
       "      <th>1</th>\n",
       "      <td>2</td>\n",
       "      <td>Male</td>\n",
       "      <td>21</td>\n",
       "      <td>35000</td>\n",
       "      <td>81</td>\n",
       "      <td>Engineer</td>\n",
       "      <td>3</td>\n",
       "      <td>3</td>\n",
       "    </tr>\n",
       "    <tr>\n",
       "      <th>2</th>\n",
       "      <td>3</td>\n",
       "      <td>Female</td>\n",
       "      <td>20</td>\n",
       "      <td>86000</td>\n",
       "      <td>6</td>\n",
       "      <td>Engineer</td>\n",
       "      <td>1</td>\n",
       "      <td>1</td>\n",
       "    </tr>\n",
       "    <tr>\n",
       "      <th>3</th>\n",
       "      <td>4</td>\n",
       "      <td>Female</td>\n",
       "      <td>23</td>\n",
       "      <td>59000</td>\n",
       "      <td>77</td>\n",
       "      <td>Lawyer</td>\n",
       "      <td>0</td>\n",
       "      <td>2</td>\n",
       "    </tr>\n",
       "    <tr>\n",
       "      <th>4</th>\n",
       "      <td>5</td>\n",
       "      <td>Female</td>\n",
       "      <td>31</td>\n",
       "      <td>38000</td>\n",
       "      <td>40</td>\n",
       "      <td>Entertainment</td>\n",
       "      <td>2</td>\n",
       "      <td>6</td>\n",
       "    </tr>\n",
       "  </tbody>\n",
       "</table>\n",
       "</div>"
      ],
      "text/plain": [
       "   CustomerID  Gender  Age  Annual Income ($)  Spending Score (1-100)  \\\n",
       "0           1    Male   19              15000                      39   \n",
       "1           2    Male   21              35000                      81   \n",
       "2           3  Female   20              86000                       6   \n",
       "3           4  Female   23              59000                      77   \n",
       "4           5  Female   31              38000                      40   \n",
       "\n",
       "      Profession  Work Experience  Family Size  \n",
       "0     Healthcare                1            4  \n",
       "1       Engineer                3            3  \n",
       "2       Engineer                1            1  \n",
       "3         Lawyer                0            2  \n",
       "4  Entertainment                2            6  "
      ]
     },
     "execution_count": 12,
     "metadata": {},
     "output_type": "execute_result"
    }
   ],
   "source": [
    "data_copy = data.copy()\n",
    "data_copy.head()"
   ]
  },
  {
   "cell_type": "code",
   "execution_count": 13,
   "id": "c6955a37",
   "metadata": {
    "execution": {
     "iopub.execute_input": "2023-05-04T22:17:35.024084Z",
     "iopub.status.busy": "2023-05-04T22:17:35.023663Z",
     "iopub.status.idle": "2023-05-04T22:17:35.031209Z",
     "shell.execute_reply": "2023-05-04T22:17:35.030242Z"
    },
    "papermill": {
     "duration": 0.029042,
     "end_time": "2023-05-04T22:17:35.033112",
     "exception": false,
     "start_time": "2023-05-04T22:17:35.004070",
     "status": "completed"
    },
    "tags": []
   },
   "outputs": [],
   "source": [
    "data_copy.drop([\"CustomerID\"], axis=1, inplace=True)"
   ]
  },
  {
   "cell_type": "code",
   "execution_count": 14,
   "id": "813b066c",
   "metadata": {
    "execution": {
     "iopub.execute_input": "2023-05-04T22:17:35.070456Z",
     "iopub.status.busy": "2023-05-04T22:17:35.069682Z",
     "iopub.status.idle": "2023-05-04T22:17:35.092056Z",
     "shell.execute_reply": "2023-05-04T22:17:35.090930Z"
    },
    "papermill": {
     "duration": 0.043735,
     "end_time": "2023-05-04T22:17:35.094436",
     "exception": false,
     "start_time": "2023-05-04T22:17:35.050701",
     "status": "completed"
    },
    "tags": []
   },
   "outputs": [
    {
     "data": {
      "text/html": [
       "<div>\n",
       "<style scoped>\n",
       "    .dataframe tbody tr th:only-of-type {\n",
       "        vertical-align: middle;\n",
       "    }\n",
       "\n",
       "    .dataframe tbody tr th {\n",
       "        vertical-align: top;\n",
       "    }\n",
       "\n",
       "    .dataframe thead th {\n",
       "        text-align: right;\n",
       "    }\n",
       "</style>\n",
       "<table border=\"1\" class=\"dataframe\">\n",
       "  <thead>\n",
       "    <tr style=\"text-align: right;\">\n",
       "      <th></th>\n",
       "      <th>Age</th>\n",
       "      <th>Annual Income ($)</th>\n",
       "      <th>Spending Score (1-100)</th>\n",
       "      <th>Work Experience</th>\n",
       "      <th>Family Size</th>\n",
       "      <th>Gender_Female</th>\n",
       "      <th>Gender_Male</th>\n",
       "      <th>Profession_Artist</th>\n",
       "      <th>Profession_Doctor</th>\n",
       "      <th>Profession_Engineer</th>\n",
       "      <th>Profession_Entertainment</th>\n",
       "      <th>Profession_Executive</th>\n",
       "      <th>Profession_Healthcare</th>\n",
       "      <th>Profession_Homemaker</th>\n",
       "      <th>Profession_Lawyer</th>\n",
       "      <th>Profession_Marketing</th>\n",
       "    </tr>\n",
       "  </thead>\n",
       "  <tbody>\n",
       "    <tr>\n",
       "      <th>0</th>\n",
       "      <td>19</td>\n",
       "      <td>15000</td>\n",
       "      <td>39</td>\n",
       "      <td>1</td>\n",
       "      <td>4</td>\n",
       "      <td>0</td>\n",
       "      <td>1</td>\n",
       "      <td>0</td>\n",
       "      <td>0</td>\n",
       "      <td>0</td>\n",
       "      <td>0</td>\n",
       "      <td>0</td>\n",
       "      <td>1</td>\n",
       "      <td>0</td>\n",
       "      <td>0</td>\n",
       "      <td>0</td>\n",
       "    </tr>\n",
       "    <tr>\n",
       "      <th>1</th>\n",
       "      <td>21</td>\n",
       "      <td>35000</td>\n",
       "      <td>81</td>\n",
       "      <td>3</td>\n",
       "      <td>3</td>\n",
       "      <td>0</td>\n",
       "      <td>1</td>\n",
       "      <td>0</td>\n",
       "      <td>0</td>\n",
       "      <td>1</td>\n",
       "      <td>0</td>\n",
       "      <td>0</td>\n",
       "      <td>0</td>\n",
       "      <td>0</td>\n",
       "      <td>0</td>\n",
       "      <td>0</td>\n",
       "    </tr>\n",
       "    <tr>\n",
       "      <th>2</th>\n",
       "      <td>20</td>\n",
       "      <td>86000</td>\n",
       "      <td>6</td>\n",
       "      <td>1</td>\n",
       "      <td>1</td>\n",
       "      <td>1</td>\n",
       "      <td>0</td>\n",
       "      <td>0</td>\n",
       "      <td>0</td>\n",
       "      <td>1</td>\n",
       "      <td>0</td>\n",
       "      <td>0</td>\n",
       "      <td>0</td>\n",
       "      <td>0</td>\n",
       "      <td>0</td>\n",
       "      <td>0</td>\n",
       "    </tr>\n",
       "    <tr>\n",
       "      <th>3</th>\n",
       "      <td>23</td>\n",
       "      <td>59000</td>\n",
       "      <td>77</td>\n",
       "      <td>0</td>\n",
       "      <td>2</td>\n",
       "      <td>1</td>\n",
       "      <td>0</td>\n",
       "      <td>0</td>\n",
       "      <td>0</td>\n",
       "      <td>0</td>\n",
       "      <td>0</td>\n",
       "      <td>0</td>\n",
       "      <td>0</td>\n",
       "      <td>0</td>\n",
       "      <td>1</td>\n",
       "      <td>0</td>\n",
       "    </tr>\n",
       "    <tr>\n",
       "      <th>4</th>\n",
       "      <td>31</td>\n",
       "      <td>38000</td>\n",
       "      <td>40</td>\n",
       "      <td>2</td>\n",
       "      <td>6</td>\n",
       "      <td>1</td>\n",
       "      <td>0</td>\n",
       "      <td>0</td>\n",
       "      <td>0</td>\n",
       "      <td>0</td>\n",
       "      <td>1</td>\n",
       "      <td>0</td>\n",
       "      <td>0</td>\n",
       "      <td>0</td>\n",
       "      <td>0</td>\n",
       "      <td>0</td>\n",
       "    </tr>\n",
       "  </tbody>\n",
       "</table>\n",
       "</div>"
      ],
      "text/plain": [
       "   Age  Annual Income ($)  Spending Score (1-100)  Work Experience  \\\n",
       "0   19              15000                      39                1   \n",
       "1   21              35000                      81                3   \n",
       "2   20              86000                       6                1   \n",
       "3   23              59000                      77                0   \n",
       "4   31              38000                      40                2   \n",
       "\n",
       "   Family Size  Gender_Female  Gender_Male  Profession_Artist  \\\n",
       "0            4              0            1                  0   \n",
       "1            3              0            1                  0   \n",
       "2            1              1            0                  0   \n",
       "3            2              1            0                  0   \n",
       "4            6              1            0                  0   \n",
       "\n",
       "   Profession_Doctor  Profession_Engineer  Profession_Entertainment  \\\n",
       "0                  0                    0                         0   \n",
       "1                  0                    1                         0   \n",
       "2                  0                    1                         0   \n",
       "3                  0                    0                         0   \n",
       "4                  0                    0                         1   \n",
       "\n",
       "   Profession_Executive  Profession_Healthcare  Profession_Homemaker  \\\n",
       "0                     0                      1                     0   \n",
       "1                     0                      0                     0   \n",
       "2                     0                      0                     0   \n",
       "3                     0                      0                     0   \n",
       "4                     0                      0                     0   \n",
       "\n",
       "   Profession_Lawyer  Profession_Marketing  \n",
       "0                  0                     0  \n",
       "1                  0                     0  \n",
       "2                  0                     0  \n",
       "3                  1                     0  \n",
       "4                  0                     0  "
      ]
     },
     "execution_count": 14,
     "metadata": {},
     "output_type": "execute_result"
    }
   ],
   "source": [
    "for col in var_cat:\n",
    "    var_dummy = pd.get_dummies(data_copy[col], prefix=col)\n",
    "    data_copy = pd.concat([data_copy, var_dummy], axis=1)\n",
    "    data_copy.drop([col], axis=1, inplace=True)\n",
    "\n",
    "data_copy.head()"
   ]
  },
  {
   "cell_type": "code",
   "execution_count": 15,
   "id": "5aa5766a",
   "metadata": {
    "execution": {
     "iopub.execute_input": "2023-05-04T22:17:35.132449Z",
     "iopub.status.busy": "2023-05-04T22:17:35.132039Z",
     "iopub.status.idle": "2023-05-04T22:17:35.160358Z",
     "shell.execute_reply": "2023-05-04T22:17:35.159252Z"
    },
    "papermill": {
     "duration": 0.050496,
     "end_time": "2023-05-04T22:17:35.162709",
     "exception": false,
     "start_time": "2023-05-04T22:17:35.112213",
     "status": "completed"
    },
    "tags": []
   },
   "outputs": [
    {
     "data": {
      "text/html": [
       "<div>\n",
       "<style scoped>\n",
       "    .dataframe tbody tr th:only-of-type {\n",
       "        vertical-align: middle;\n",
       "    }\n",
       "\n",
       "    .dataframe tbody tr th {\n",
       "        vertical-align: top;\n",
       "    }\n",
       "\n",
       "    .dataframe thead th {\n",
       "        text-align: right;\n",
       "    }\n",
       "</style>\n",
       "<table border=\"1\" class=\"dataframe\">\n",
       "  <thead>\n",
       "    <tr style=\"text-align: right;\">\n",
       "      <th></th>\n",
       "      <th>Age</th>\n",
       "      <th>Annual Income ($)</th>\n",
       "      <th>Spending Score (1-100)</th>\n",
       "      <th>Work Experience</th>\n",
       "      <th>Family Size</th>\n",
       "      <th>Gender_Female</th>\n",
       "      <th>Gender_Male</th>\n",
       "      <th>Profession_Artist</th>\n",
       "      <th>Profession_Doctor</th>\n",
       "      <th>Profession_Engineer</th>\n",
       "      <th>Profession_Entertainment</th>\n",
       "      <th>Profession_Executive</th>\n",
       "      <th>Profession_Healthcare</th>\n",
       "      <th>Profession_Homemaker</th>\n",
       "      <th>Profession_Lawyer</th>\n",
       "      <th>Profession_Marketing</th>\n",
       "    </tr>\n",
       "  </thead>\n",
       "  <tbody>\n",
       "    <tr>\n",
       "      <th>0</th>\n",
       "      <td>0.191919</td>\n",
       "      <td>0.078958</td>\n",
       "      <td>0.39</td>\n",
       "      <td>0.058824</td>\n",
       "      <td>0.375</td>\n",
       "      <td>0.0</td>\n",
       "      <td>1.0</td>\n",
       "      <td>0.0</td>\n",
       "      <td>0.0</td>\n",
       "      <td>0.0</td>\n",
       "      <td>0.0</td>\n",
       "      <td>0.0</td>\n",
       "      <td>1.0</td>\n",
       "      <td>0.0</td>\n",
       "      <td>0.0</td>\n",
       "      <td>0.0</td>\n",
       "    </tr>\n",
       "    <tr>\n",
       "      <th>1</th>\n",
       "      <td>0.212121</td>\n",
       "      <td>0.184236</td>\n",
       "      <td>0.81</td>\n",
       "      <td>0.176471</td>\n",
       "      <td>0.250</td>\n",
       "      <td>0.0</td>\n",
       "      <td>1.0</td>\n",
       "      <td>0.0</td>\n",
       "      <td>0.0</td>\n",
       "      <td>1.0</td>\n",
       "      <td>0.0</td>\n",
       "      <td>0.0</td>\n",
       "      <td>0.0</td>\n",
       "      <td>0.0</td>\n",
       "      <td>0.0</td>\n",
       "      <td>0.0</td>\n",
       "    </tr>\n",
       "    <tr>\n",
       "      <th>2</th>\n",
       "      <td>0.202020</td>\n",
       "      <td>0.452694</td>\n",
       "      <td>0.06</td>\n",
       "      <td>0.058824</td>\n",
       "      <td>0.000</td>\n",
       "      <td>1.0</td>\n",
       "      <td>0.0</td>\n",
       "      <td>0.0</td>\n",
       "      <td>0.0</td>\n",
       "      <td>1.0</td>\n",
       "      <td>0.0</td>\n",
       "      <td>0.0</td>\n",
       "      <td>0.0</td>\n",
       "      <td>0.0</td>\n",
       "      <td>0.0</td>\n",
       "      <td>0.0</td>\n",
       "    </tr>\n",
       "    <tr>\n",
       "      <th>3</th>\n",
       "      <td>0.232323</td>\n",
       "      <td>0.310569</td>\n",
       "      <td>0.77</td>\n",
       "      <td>0.000000</td>\n",
       "      <td>0.125</td>\n",
       "      <td>1.0</td>\n",
       "      <td>0.0</td>\n",
       "      <td>0.0</td>\n",
       "      <td>0.0</td>\n",
       "      <td>0.0</td>\n",
       "      <td>0.0</td>\n",
       "      <td>0.0</td>\n",
       "      <td>0.0</td>\n",
       "      <td>0.0</td>\n",
       "      <td>1.0</td>\n",
       "      <td>0.0</td>\n",
       "    </tr>\n",
       "    <tr>\n",
       "      <th>4</th>\n",
       "      <td>0.313131</td>\n",
       "      <td>0.200027</td>\n",
       "      <td>0.40</td>\n",
       "      <td>0.117647</td>\n",
       "      <td>0.625</td>\n",
       "      <td>1.0</td>\n",
       "      <td>0.0</td>\n",
       "      <td>0.0</td>\n",
       "      <td>0.0</td>\n",
       "      <td>0.0</td>\n",
       "      <td>1.0</td>\n",
       "      <td>0.0</td>\n",
       "      <td>0.0</td>\n",
       "      <td>0.0</td>\n",
       "      <td>0.0</td>\n",
       "      <td>0.0</td>\n",
       "    </tr>\n",
       "  </tbody>\n",
       "</table>\n",
       "</div>"
      ],
      "text/plain": [
       "        Age  Annual Income ($)  Spending Score (1-100)  Work Experience  \\\n",
       "0  0.191919           0.078958                    0.39         0.058824   \n",
       "1  0.212121           0.184236                    0.81         0.176471   \n",
       "2  0.202020           0.452694                    0.06         0.058824   \n",
       "3  0.232323           0.310569                    0.77         0.000000   \n",
       "4  0.313131           0.200027                    0.40         0.117647   \n",
       "\n",
       "   Family Size  Gender_Female  Gender_Male  Profession_Artist  \\\n",
       "0        0.375            0.0          1.0                0.0   \n",
       "1        0.250            0.0          1.0                0.0   \n",
       "2        0.000            1.0          0.0                0.0   \n",
       "3        0.125            1.0          0.0                0.0   \n",
       "4        0.625            1.0          0.0                0.0   \n",
       "\n",
       "   Profession_Doctor  Profession_Engineer  Profession_Entertainment  \\\n",
       "0                0.0                  0.0                       0.0   \n",
       "1                0.0                  1.0                       0.0   \n",
       "2                0.0                  1.0                       0.0   \n",
       "3                0.0                  0.0                       0.0   \n",
       "4                0.0                  0.0                       1.0   \n",
       "\n",
       "   Profession_Executive  Profession_Healthcare  Profession_Homemaker  \\\n",
       "0                   0.0                    1.0                   0.0   \n",
       "1                   0.0                    0.0                   0.0   \n",
       "2                   0.0                    0.0                   0.0   \n",
       "3                   0.0                    0.0                   0.0   \n",
       "4                   0.0                    0.0                   0.0   \n",
       "\n",
       "   Profession_Lawyer  Profession_Marketing  \n",
       "0                0.0                   0.0  \n",
       "1                0.0                   0.0  \n",
       "2                0.0                   0.0  \n",
       "3                1.0                   0.0  \n",
       "4                0.0                   0.0  "
      ]
     },
     "execution_count": 15,
     "metadata": {},
     "output_type": "execute_result"
    }
   ],
   "source": [
    "data_copy_norm = (data_copy-data_copy.min())/(data_copy.max()-data_copy.min())\n",
    "data_copy_norm.head()"
   ]
  },
  {
   "cell_type": "markdown",
   "id": "32349ec4",
   "metadata": {
    "papermill": {
     "duration": 0.0181,
     "end_time": "2023-05-04T22:17:35.198941",
     "exception": false,
     "start_time": "2023-05-04T22:17:35.180841",
     "status": "completed"
    },
    "tags": []
   },
   "source": [
    "> ## Modelización."
   ]
  },
  {
   "cell_type": "markdown",
   "id": "b34e796e",
   "metadata": {
    "papermill": {
     "duration": 0.017389,
     "end_time": "2023-05-04T22:17:35.234329",
     "exception": false,
     "start_time": "2023-05-04T22:17:35.216940",
     "status": "completed"
    },
    "tags": []
   },
   "source": [
    "> * ### KMeans"
   ]
  },
  {
   "cell_type": "code",
   "execution_count": 16,
   "id": "d4a8132e",
   "metadata": {
    "execution": {
     "iopub.execute_input": "2023-05-04T22:17:35.272362Z",
     "iopub.status.busy": "2023-05-04T22:17:35.271660Z",
     "iopub.status.idle": "2023-05-04T22:17:35.933590Z",
     "shell.execute_reply": "2023-05-04T22:17:35.932663Z"
    },
    "papermill": {
     "duration": 0.68386,
     "end_time": "2023-05-04T22:17:35.936222",
     "exception": false,
     "start_time": "2023-05-04T22:17:35.252362",
     "status": "completed"
    },
    "tags": []
   },
   "outputs": [],
   "source": [
    "from sklearn.cluster import KMeans\n",
    "from sklearn.metrics import silhouette_samples, silhouette_score"
   ]
  },
  {
   "cell_type": "code",
   "execution_count": 17,
   "id": "62359175",
   "metadata": {
    "execution": {
     "iopub.execute_input": "2023-05-04T22:17:35.975279Z",
     "iopub.status.busy": "2023-05-04T22:17:35.974657Z",
     "iopub.status.idle": "2023-05-04T22:17:43.727442Z",
     "shell.execute_reply": "2023-05-04T22:17:43.726134Z"
    },
    "papermill": {
     "duration": 7.775736,
     "end_time": "2023-05-04T22:17:43.730518",
     "exception": false,
     "start_time": "2023-05-04T22:17:35.954782",
     "status": "completed"
    },
    "tags": []
   },
   "outputs": [
    {
     "data": {
      "image/png": "[encoded data removed]",
      "text/plain": [
       "<Figure size 600x400 with 1 Axes>"
      ]
     },
     "metadata": {},
     "output_type": "display_data"
    }
   ],
   "source": [
    "kmeans_per_k = [KMeans(n_clusters=k, n_init=10).fit(data_copy_norm) for k in range(1,10)]\n",
    "inertias = [model.inertia_ for model in kmeans_per_k]\n",
    "\n",
    "plt.figure(figsize=(6,4))\n",
    "plt.plot(range(1,10), inertias, \"co-\")\n",
    "plt.show()"
   ]
  },
  {
   "cell_type": "code",
   "execution_count": 18,
   "id": "2eeca8dc",
   "metadata": {
    "execution": {
     "iopub.execute_input": "2023-05-04T22:17:43.769863Z",
     "iopub.status.busy": "2023-05-04T22:17:43.769099Z",
     "iopub.status.idle": "2023-05-04T22:17:57.605923Z",
     "shell.execute_reply": "2023-05-04T22:17:57.604300Z"
    },
    "papermill": {
     "duration": 13.85946,
     "end_time": "2023-05-04T22:17:57.608523",
     "exception": false,
     "start_time": "2023-05-04T22:17:43.749063",
     "status": "completed"
    },
    "tags": []
   },
   "outputs": [
    {
     "name": "stdout",
     "output_type": "stream",
     "text": [
      "*Para cada k =  2  el promedio de la silueta es de:  0.28467968559096446\n",
      " - Para i =  1  la silueta del cluster vale:  0.2813487503235023\n",
      " - Para i =  2  la silueta del cluster vale:  0.2869658418369292\n"
     ]
    },
    {
     "data": {
      "image/png": "[encoded data removed]",
      "text/plain": [
       "<Figure size 640x480 with 1 Axes>"
      ]
     },
     "metadata": {},
     "output_type": "display_data"
    },
    {
     "name": "stdout",
     "output_type": "stream",
     "text": [
      "*Para cada k =  3  el promedio de la silueta es de:  0.22512139084071622\n",
      " - Para i =  1  la silueta del cluster vale:  0.5218094200705803\n",
      " - Para i =  2  la silueta del cluster vale:  0.2311255613772507\n",
      " - Para i =  3  la silueta del cluster vale:  0.07917989465698504\n"
     ]
    },
    {
     "data": {
      "image/png": "[encoded data removed]",
      "text/plain": [
       "<Figure size 640x480 with 1 Axes>"
      ]
     },
     "metadata": {},
     "output_type": "display_data"
    },
    {
     "name": "stdout",
     "output_type": "stream",
     "text": [
      "*Para cada k =  4  el promedio de la silueta es de:  0.21517688433280394\n",
      " - Para i =  1  la silueta del cluster vale:  0.5138010802223929\n",
      " - Para i =  2  la silueta del cluster vale:  0.07917989465698504\n",
      " - Para i =  3  la silueta del cluster vale:  0.08431579305602102\n",
      " - Para i =  4  la silueta del cluster vale:  0.5217398194786277\n"
     ]
    },
    {
     "data": {
      "image/png": "[encoded data removed]",
      "text/plain": [
       "<Figure size 640x480 with 1 Axes>"
      ]
     },
     "metadata": {},
     "output_type": "display_data"
    },
    {
     "name": "stdout",
     "output_type": "stream",
     "text": [
      "*Para cada k =  5  el promedio de la silueta es de:  0.2584770180834408\n",
      " - Para i =  1  la silueta del cluster vale:  0.521177287253867\n",
      " - Para i =  2  la silueta del cluster vale:  0.08345272560463324\n",
      " - Para i =  3  la silueta del cluster vale:  0.5138010802223929\n",
      " - Para i =  4  la silueta del cluster vale:  0.5228734393801452\n",
      " - Para i =  5  la silueta del cluster vale:  0.07975759996461003\n"
     ]
    },
    {
     "data": {
      "image/png": "[encoded data removed]",
      "text/plain": [
       "<Figure size 640x480 with 1 Axes>"
      ]
     },
     "metadata": {},
     "output_type": "display_data"
    },
    {
     "name": "stdout",
     "output_type": "stream",
     "text": [
      "*Para cada k =  6  el promedio de la silueta es de:  0.2900823355649852\n",
      " - Para i =  1  la silueta del cluster vale:  0.5233200115235994\n",
      " - Para i =  2  la silueta del cluster vale:  0.521177287253867\n",
      " - Para i =  3  la silueta del cluster vale:  0.07975759996461003\n",
      " - Para i =  4  la silueta del cluster vale:  0.5132459588239345\n",
      " - Para i =  5  la silueta del cluster vale:  0.08446002408772187\n",
      " - Para i =  6  la silueta del cluster vale:  0.5228540373752626\n"
     ]
    },
    {
     "data": {
      "image/png": "[encoded data removed]",
      "text/plain": [
       "<Figure size 640x480 with 1 Axes>"
      ]
     },
     "metadata": {},
     "output_type": "display_data"
    },
    {
     "name": "stdout",
     "output_type": "stream",
     "text": [
      "*Para cada k =  7  el promedio de la silueta es de:  0.32137263826678175\n",
      " - Para i =  1  la silueta del cluster vale:  0.08839158970340392\n",
      " - Para i =  2  la silueta del cluster vale:  0.5233200115235994\n",
      " - Para i =  3  la silueta del cluster vale:  0.5132459588239345\n",
      " - Para i =  4  la silueta del cluster vale:  0.5205877167230708\n",
      " - Para i =  5  la silueta del cluster vale:  0.5222285838795298\n",
      " - Para i =  6  la silueta del cluster vale:  0.5228305559848511\n",
      " - Para i =  7  la silueta del cluster vale:  0.08418693715005089\n"
     ]
    },
    {
     "data": {
      "image/png": "[encoded data removed]",
      "text/plain": [
       "<Figure size 640x480 with 1 Axes>"
      ]
     },
     "metadata": {},
     "output_type": "display_data"
    },
    {
     "name": "stdout",
     "output_type": "stream",
     "text": [
      "*Para cada k =  8  el promedio de la silueta es de:  0.3448272493977939\n",
      " - Para i =  1  la silueta del cluster vale:  0.09432695692489783\n",
      " - Para i =  2  la silueta del cluster vale:  0.5205877167230708\n",
      " - Para i =  3  la silueta del cluster vale:  0.5220233559011789\n",
      " - Para i =  4  la silueta del cluster vale:  0.5119423079677121\n",
      " - Para i =  5  la silueta del cluster vale:  0.08839158970340392\n",
      " - Para i =  6  la silueta del cluster vale:  0.5223718862354272\n",
      " - Para i =  7  la silueta del cluster vale:  0.5222285838795298\n",
      " - Para i =  8  la silueta del cluster vale:  0.520135129303014\n"
     ]
    },
    {
     "data": {
      "image/png": "[encoded data removed]",
      "text/plain": [
       "<Figure size 640x480 with 1 Axes>"
      ]
     },
     "metadata": {},
     "output_type": "display_data"
    },
    {
     "name": "stdout",
     "output_type": "stream",
     "text": [
      "*Para cada k =  9  el promedio de la silueta es de:  0.36485149867556016\n",
      " - Para i =  1  la silueta del cluster vale:  0.5115027542228533\n",
      " - Para i =  2  la silueta del cluster vale:  0.521010514231833\n",
      " - Para i =  3  la silueta del cluster vale:  0.5194112306134742\n",
      " - Para i =  4  la silueta del cluster vale:  0.11525679370310683\n",
      " - Para i =  5  la silueta del cluster vale:  0.10316817226995882\n",
      " - Para i =  6  la silueta del cluster vale:  0.5215804496732505\n",
      " - Para i =  7  la silueta del cluster vale:  0.5215988613021395\n",
      " - Para i =  8  la silueta del cluster vale:  0.27442962308440355\n",
      " - Para i =  9  la silueta del cluster vale:  0.5185284456176558\n"
     ]
    },
    {
     "data": {
      "image/png": "[encoded data removed]",
      "text/plain": [
       "<Figure size 640x480 with 1 Axes>"
      ]
     },
     "metadata": {},
     "output_type": "display_data"
    }
   ],
   "source": [
    "color_palette = [plt.cm.Spectral(float(i)/10) for i in range(1,10)]\n",
    "\n",
    "for k in range(1,10):\n",
    "    kmeanmodel = KMeans(n_clusters=k, n_init=10).fit(data_copy_norm)\n",
    "    centers = pd.DataFrame(kmeanmodel.cluster_centers_)\n",
    "    labels = kmeanmodel.labels_\n",
    "    \n",
    "    if 1<k<len(data_copy_norm):\n",
    "        _,axis1 = plt.subplots(1,1)\n",
    "        \n",
    "        axis1.set_xlim([-0.1,1.0])\n",
    "        axis1.set_ylim([0, len(data_copy_norm)+ (k+1)*10])\n",
    "        \n",
    "        silhouette_avg = silhouette_score(data_copy_norm,labels)\n",
    "        print(\"*Para cada k = \",k,\" el promedio de la silueta es de: \",silhouette_avg)\n",
    "        sample_silhouette_values = silhouette_samples(data_copy_norm,labels)\n",
    "        \n",
    "        y_lower = 10\n",
    "        for i in range(k):\n",
    "            ith_cluster_sv = sample_silhouette_values[labels==i]\n",
    "            print(\" - Para i = \",i+1,\n",
    "                 \" la silueta del cluster vale: \",\n",
    "                 np.mean(ith_cluster_sv))\n",
    "            ith_cluster_sv.sort()\n",
    "            \n",
    "            ith_cluster_size = ith_cluster_sv.shape[0]\n",
    "            y_upper = y_lower + ith_cluster_size\n",
    "            \n",
    "            color = color_palette[i]\n",
    "            \n",
    "            axis1.fill_betweenx(np.arange(y_lower,y_upper),\n",
    "                               0 ,ith_cluster_sv,\n",
    "                                facecolor=color, alpha=0.7)\n",
    "            \n",
    "            axis1.text(-0.05, y_lower+0.5*ith_cluster_size, str(i+1))\n",
    "            \n",
    "            y_lower = y_upper + 10\n",
    "            \n",
    "        axis1.set_title(\"Representación de la silueta para k = %s\"%str(k))\n",
    "        axis1.set_xlabel(\"S(i)\")\n",
    "        axis1.set_ylabel(\"ID del cluster\")\n",
    "        \n",
    "        plt.show()"
   ]
  },
  {
   "cell_type": "markdown",
   "id": "72a3b2a4",
   "metadata": {
    "papermill": {
     "duration": 0.022428,
     "end_time": "2023-05-04T22:17:57.653758",
     "exception": false,
     "start_time": "2023-05-04T22:17:57.631330",
     "status": "completed"
    },
    "tags": []
   },
   "source": [
    "* #### Por el metodo del codo y el metodo de la silueta considero que el número de clusters óptimo es 2."
   ]
  },
  {
   "cell_type": "code",
   "execution_count": 19,
   "id": "ac6ff007",
   "metadata": {
    "execution": {
     "iopub.execute_input": "2023-05-04T22:17:57.701447Z",
     "iopub.status.busy": "2023-05-04T22:17:57.701009Z",
     "iopub.status.idle": "2023-05-04T22:17:58.289091Z",
     "shell.execute_reply": "2023-05-04T22:17:58.287806Z"
    },
    "papermill": {
     "duration": 0.617152,
     "end_time": "2023-05-04T22:17:58.293823",
     "exception": false,
     "start_time": "2023-05-04T22:17:57.676671",
     "status": "completed"
    },
    "tags": []
   },
   "outputs": [],
   "source": [
    "kmean = KMeans(n_clusters=2, n_init=10).fit_predict(data_copy_norm)"
   ]
  },
  {
   "cell_type": "code",
   "execution_count": 20,
   "id": "75ee3a9a",
   "metadata": {
    "execution": {
     "iopub.execute_input": "2023-05-04T22:17:58.394526Z",
     "iopub.status.busy": "2023-05-04T22:17:58.394073Z",
     "iopub.status.idle": "2023-05-04T22:17:58.399694Z",
     "shell.execute_reply": "2023-05-04T22:17:58.398513Z"
    },
    "papermill": {
     "duration": 0.044948,
     "end_time": "2023-05-04T22:17:58.401921",
     "exception": false,
     "start_time": "2023-05-04T22:17:58.356973",
     "status": "completed"
    },
    "tags": []
   },
   "outputs": [],
   "source": [
    "clust_k = pd.Series(kmean)"
   ]
  },
  {
   "cell_type": "code",
   "execution_count": 21,
   "id": "4cd61c62",
   "metadata": {
    "execution": {
     "iopub.execute_input": "2023-05-04T22:17:58.450671Z",
     "iopub.status.busy": "2023-05-04T22:17:58.450291Z",
     "iopub.status.idle": "2023-05-04T22:17:58.456224Z",
     "shell.execute_reply": "2023-05-04T22:17:58.455357Z"
    },
    "papermill": {
     "duration": 0.03302,
     "end_time": "2023-05-04T22:17:58.458916",
     "exception": false,
     "start_time": "2023-05-04T22:17:58.425896",
     "status": "completed"
    },
    "tags": []
   },
   "outputs": [],
   "source": [
    "data_clust_k = data_copy.copy()"
   ]
  },
  {
   "cell_type": "code",
   "execution_count": 22,
   "id": "ab41a932",
   "metadata": {
    "execution": {
     "iopub.execute_input": "2023-05-04T22:17:58.507692Z",
     "iopub.status.busy": "2023-05-04T22:17:58.507244Z",
     "iopub.status.idle": "2023-05-04T22:17:58.522948Z",
     "shell.execute_reply": "2023-05-04T22:17:58.521676Z"
    },
    "papermill": {
     "duration": 0.043103,
     "end_time": "2023-05-04T22:17:58.525347",
     "exception": false,
     "start_time": "2023-05-04T22:17:58.482244",
     "status": "completed"
    },
    "tags": []
   },
   "outputs": [
    {
     "data": {
      "text/html": [
       "<div>\n",
       "<style scoped>\n",
       "    .dataframe tbody tr th:only-of-type {\n",
       "        vertical-align: middle;\n",
       "    }\n",
       "\n",
       "    .dataframe tbody tr th {\n",
       "        vertical-align: top;\n",
       "    }\n",
       "\n",
       "    .dataframe thead th {\n",
       "        text-align: right;\n",
       "    }\n",
       "</style>\n",
       "<table border=\"1\" class=\"dataframe\">\n",
       "  <thead>\n",
       "    <tr style=\"text-align: right;\">\n",
       "      <th></th>\n",
       "      <th>Age</th>\n",
       "      <th>Annual Income ($)</th>\n",
       "      <th>Spending Score (1-100)</th>\n",
       "      <th>Work Experience</th>\n",
       "      <th>Family Size</th>\n",
       "      <th>Gender_Female</th>\n",
       "      <th>Gender_Male</th>\n",
       "      <th>Profession_Artist</th>\n",
       "      <th>Profession_Doctor</th>\n",
       "      <th>Profession_Engineer</th>\n",
       "      <th>Profession_Entertainment</th>\n",
       "      <th>Profession_Executive</th>\n",
       "      <th>Profession_Healthcare</th>\n",
       "      <th>Profession_Homemaker</th>\n",
       "      <th>Profession_Lawyer</th>\n",
       "      <th>Profession_Marketing</th>\n",
       "      <th>clust_k</th>\n",
       "    </tr>\n",
       "  </thead>\n",
       "  <tbody>\n",
       "    <tr>\n",
       "      <th>0</th>\n",
       "      <td>19</td>\n",
       "      <td>15000</td>\n",
       "      <td>39</td>\n",
       "      <td>1</td>\n",
       "      <td>4</td>\n",
       "      <td>0</td>\n",
       "      <td>1</td>\n",
       "      <td>0</td>\n",
       "      <td>0</td>\n",
       "      <td>0</td>\n",
       "      <td>0</td>\n",
       "      <td>0</td>\n",
       "      <td>1</td>\n",
       "      <td>0</td>\n",
       "      <td>0</td>\n",
       "      <td>0</td>\n",
       "      <td>0</td>\n",
       "    </tr>\n",
       "    <tr>\n",
       "      <th>1</th>\n",
       "      <td>21</td>\n",
       "      <td>35000</td>\n",
       "      <td>81</td>\n",
       "      <td>3</td>\n",
       "      <td>3</td>\n",
       "      <td>0</td>\n",
       "      <td>1</td>\n",
       "      <td>0</td>\n",
       "      <td>0</td>\n",
       "      <td>1</td>\n",
       "      <td>0</td>\n",
       "      <td>0</td>\n",
       "      <td>0</td>\n",
       "      <td>0</td>\n",
       "      <td>0</td>\n",
       "      <td>0</td>\n",
       "      <td>0</td>\n",
       "    </tr>\n",
       "    <tr>\n",
       "      <th>2</th>\n",
       "      <td>20</td>\n",
       "      <td>86000</td>\n",
       "      <td>6</td>\n",
       "      <td>1</td>\n",
       "      <td>1</td>\n",
       "      <td>1</td>\n",
       "      <td>0</td>\n",
       "      <td>0</td>\n",
       "      <td>0</td>\n",
       "      <td>1</td>\n",
       "      <td>0</td>\n",
       "      <td>0</td>\n",
       "      <td>0</td>\n",
       "      <td>0</td>\n",
       "      <td>0</td>\n",
       "      <td>0</td>\n",
       "      <td>1</td>\n",
       "    </tr>\n",
       "    <tr>\n",
       "      <th>3</th>\n",
       "      <td>23</td>\n",
       "      <td>59000</td>\n",
       "      <td>77</td>\n",
       "      <td>0</td>\n",
       "      <td>2</td>\n",
       "      <td>1</td>\n",
       "      <td>0</td>\n",
       "      <td>0</td>\n",
       "      <td>0</td>\n",
       "      <td>0</td>\n",
       "      <td>0</td>\n",
       "      <td>0</td>\n",
       "      <td>0</td>\n",
       "      <td>0</td>\n",
       "      <td>1</td>\n",
       "      <td>0</td>\n",
       "      <td>1</td>\n",
       "    </tr>\n",
       "    <tr>\n",
       "      <th>4</th>\n",
       "      <td>31</td>\n",
       "      <td>38000</td>\n",
       "      <td>40</td>\n",
       "      <td>2</td>\n",
       "      <td>6</td>\n",
       "      <td>1</td>\n",
       "      <td>0</td>\n",
       "      <td>0</td>\n",
       "      <td>0</td>\n",
       "      <td>0</td>\n",
       "      <td>1</td>\n",
       "      <td>0</td>\n",
       "      <td>0</td>\n",
       "      <td>0</td>\n",
       "      <td>0</td>\n",
       "      <td>0</td>\n",
       "      <td>1</td>\n",
       "    </tr>\n",
       "  </tbody>\n",
       "</table>\n",
       "</div>"
      ],
      "text/plain": [
       "   Age  Annual Income ($)  Spending Score (1-100)  Work Experience  \\\n",
       "0   19              15000                      39                1   \n",
       "1   21              35000                      81                3   \n",
       "2   20              86000                       6                1   \n",
       "3   23              59000                      77                0   \n",
       "4   31              38000                      40                2   \n",
       "\n",
       "   Family Size  Gender_Female  Gender_Male  Profession_Artist  \\\n",
       "0            4              0            1                  0   \n",
       "1            3              0            1                  0   \n",
       "2            1              1            0                  0   \n",
       "3            2              1            0                  0   \n",
       "4            6              1            0                  0   \n",
       "\n",
       "   Profession_Doctor  Profession_Engineer  Profession_Entertainment  \\\n",
       "0                  0                    0                         0   \n",
       "1                  0                    1                         0   \n",
       "2                  0                    1                         0   \n",
       "3                  0                    0                         0   \n",
       "4                  0                    0                         1   \n",
       "\n",
       "   Profession_Executive  Profession_Healthcare  Profession_Homemaker  \\\n",
       "0                     0                      1                     0   \n",
       "1                     0                      0                     0   \n",
       "2                     0                      0                     0   \n",
       "3                     0                      0                     0   \n",
       "4                     0                      0                     0   \n",
       "\n",
       "   Profession_Lawyer  Profession_Marketing  clust_k  \n",
       "0                  0                     0        0  \n",
       "1                  0                     0        0  \n",
       "2                  0                     0        1  \n",
       "3                  1                     0        1  \n",
       "4                  0                     0        1  "
      ]
     },
     "execution_count": 22,
     "metadata": {},
     "output_type": "execute_result"
    }
   ],
   "source": [
    "data_clust_k[\"clust_k\"] = clust_k\n",
    "data_clust_k.head()"
   ]
  },
  {
   "cell_type": "code",
   "execution_count": 23,
   "id": "a2074241",
   "metadata": {
    "execution": {
     "iopub.execute_input": "2023-05-04T22:17:58.573903Z",
     "iopub.status.busy": "2023-05-04T22:17:58.573517Z",
     "iopub.status.idle": "2023-05-04T22:17:58.585113Z",
     "shell.execute_reply": "2023-05-04T22:17:58.583806Z"
    },
    "papermill": {
     "duration": 0.038715,
     "end_time": "2023-05-04T22:17:58.587407",
     "exception": false,
     "start_time": "2023-05-04T22:17:58.548692",
     "status": "completed"
    },
    "tags": []
   },
   "outputs": [
    {
     "data": {
      "text/html": [
       "<div>\n",
       "<style scoped>\n",
       "    .dataframe tbody tr th:only-of-type {\n",
       "        vertical-align: middle;\n",
       "    }\n",
       "\n",
       "    .dataframe tbody tr th {\n",
       "        vertical-align: top;\n",
       "    }\n",
       "\n",
       "    .dataframe thead th {\n",
       "        text-align: right;\n",
       "    }\n",
       "</style>\n",
       "<table border=\"1\" class=\"dataframe\">\n",
       "  <thead>\n",
       "    <tr style=\"text-align: right;\">\n",
       "      <th></th>\n",
       "      <th>Age</th>\n",
       "      <th>Annual Income ($)</th>\n",
       "      <th>Spending Score (1-100)</th>\n",
       "      <th>Work Experience</th>\n",
       "      <th>Family Size</th>\n",
       "      <th>Gender_Female</th>\n",
       "      <th>Gender_Male</th>\n",
       "      <th>Profession_Artist</th>\n",
       "      <th>Profession_Doctor</th>\n",
       "      <th>Profession_Engineer</th>\n",
       "      <th>Profession_Entertainment</th>\n",
       "      <th>Profession_Executive</th>\n",
       "      <th>Profession_Healthcare</th>\n",
       "      <th>Profession_Homemaker</th>\n",
       "      <th>Profession_Lawyer</th>\n",
       "      <th>Profession_Marketing</th>\n",
       "      <th>clust_k</th>\n",
       "    </tr>\n",
       "  </thead>\n",
       "  <tbody>\n",
       "  </tbody>\n",
       "</table>\n",
       "</div>"
      ],
      "text/plain": [
       "Empty DataFrame\n",
       "Columns: [Age, Annual Income ($), Spending Score (1-100), Work Experience, Family Size, Gender_Female, Gender_Male, Profession_Artist, Profession_Doctor, Profession_Engineer, Profession_Entertainment, Profession_Executive, Profession_Healthcare, Profession_Homemaker, Profession_Lawyer, Profession_Marketing, clust_k]\n",
       "Index: []"
      ]
     },
     "execution_count": 23,
     "metadata": {},
     "output_type": "execute_result"
    }
   ],
   "source": [
    "data_clust_k[data_clust_k[\"clust_k\"].isnull()]"
   ]
  },
  {
   "cell_type": "code",
   "execution_count": 24,
   "id": "b644ebb0",
   "metadata": {
    "execution": {
     "iopub.execute_input": "2023-05-04T22:17:58.636655Z",
     "iopub.status.busy": "2023-05-04T22:17:58.635359Z",
     "iopub.status.idle": "2023-05-04T22:17:58.658095Z",
     "shell.execute_reply": "2023-05-04T22:17:58.656891Z"
    },
    "papermill": {
     "duration": 0.05007,
     "end_time": "2023-05-04T22:17:58.660866",
     "exception": false,
     "start_time": "2023-05-04T22:17:58.610796",
     "status": "completed"
    },
    "tags": []
   },
   "outputs": [
    {
     "data": {
      "text/html": [
       "<div>\n",
       "<style scoped>\n",
       "    .dataframe tbody tr th:only-of-type {\n",
       "        vertical-align: middle;\n",
       "    }\n",
       "\n",
       "    .dataframe tbody tr th {\n",
       "        vertical-align: top;\n",
       "    }\n",
       "\n",
       "    .dataframe thead th {\n",
       "        text-align: right;\n",
       "    }\n",
       "</style>\n",
       "<table border=\"1\" class=\"dataframe\">\n",
       "  <thead>\n",
       "    <tr style=\"text-align: right;\">\n",
       "      <th></th>\n",
       "      <th>Age</th>\n",
       "      <th>Annual Income ($)</th>\n",
       "      <th>Spending Score (1-100)</th>\n",
       "      <th>Work Experience</th>\n",
       "      <th>Family Size</th>\n",
       "      <th>Gender_Female</th>\n",
       "      <th>Gender_Male</th>\n",
       "      <th>Profession_Artist</th>\n",
       "      <th>Profession_Doctor</th>\n",
       "      <th>Profession_Engineer</th>\n",
       "      <th>Profession_Entertainment</th>\n",
       "      <th>Profession_Executive</th>\n",
       "      <th>Profession_Healthcare</th>\n",
       "      <th>Profession_Homemaker</th>\n",
       "      <th>Profession_Lawyer</th>\n",
       "      <th>Profession_Marketing</th>\n",
       "    </tr>\n",
       "    <tr>\n",
       "      <th>clust_k</th>\n",
       "      <th></th>\n",
       "      <th></th>\n",
       "      <th></th>\n",
       "      <th></th>\n",
       "      <th></th>\n",
       "      <th></th>\n",
       "      <th></th>\n",
       "      <th></th>\n",
       "      <th></th>\n",
       "      <th></th>\n",
       "      <th></th>\n",
       "      <th></th>\n",
       "      <th></th>\n",
       "      <th></th>\n",
       "      <th></th>\n",
       "      <th></th>\n",
       "    </tr>\n",
       "  </thead>\n",
       "  <tbody>\n",
       "    <tr>\n",
       "      <th>0</th>\n",
       "      <td>49.159705</td>\n",
       "      <td>110991.323096</td>\n",
       "      <td>50.944717</td>\n",
       "      <td>4.200246</td>\n",
       "      <td>3.769042</td>\n",
       "      <td>0.0</td>\n",
       "      <td>1.0</td>\n",
       "      <td>0.285012</td>\n",
       "      <td>0.088452</td>\n",
       "      <td>0.093366</td>\n",
       "      <td>0.124079</td>\n",
       "      <td>0.081081</td>\n",
       "      <td>0.175676</td>\n",
       "      <td>0.025799</td>\n",
       "      <td>0.068796</td>\n",
       "      <td>0.039312</td>\n",
       "    </tr>\n",
       "    <tr>\n",
       "      <th>1</th>\n",
       "      <td>48.822934</td>\n",
       "      <td>110553.715008</td>\n",
       "      <td>50.974705</td>\n",
       "      <td>4.035413</td>\n",
       "      <td>3.768128</td>\n",
       "      <td>1.0</td>\n",
       "      <td>0.0</td>\n",
       "      <td>0.320405</td>\n",
       "      <td>0.075042</td>\n",
       "      <td>0.086847</td>\n",
       "      <td>0.112142</td>\n",
       "      <td>0.073356</td>\n",
       "      <td>0.165261</td>\n",
       "      <td>0.032884</td>\n",
       "      <td>0.072513</td>\n",
       "      <td>0.044688</td>\n",
       "    </tr>\n",
       "  </tbody>\n",
       "</table>\n",
       "</div>"
      ],
      "text/plain": [
       "               Age  Annual Income ($)  Spending Score (1-100)  \\\n",
       "clust_k                                                         \n",
       "0        49.159705      110991.323096               50.944717   \n",
       "1        48.822934      110553.715008               50.974705   \n",
       "\n",
       "         Work Experience  Family Size  Gender_Female  Gender_Male  \\\n",
       "clust_k                                                             \n",
       "0               4.200246     3.769042            0.0          1.0   \n",
       "1               4.035413     3.768128            1.0          0.0   \n",
       "\n",
       "         Profession_Artist  Profession_Doctor  Profession_Engineer  \\\n",
       "clust_k                                                              \n",
       "0                 0.285012           0.088452             0.093366   \n",
       "1                 0.320405           0.075042             0.086847   \n",
       "\n",
       "         Profession_Entertainment  Profession_Executive  \\\n",
       "clust_k                                                   \n",
       "0                        0.124079              0.081081   \n",
       "1                        0.112142              0.073356   \n",
       "\n",
       "         Profession_Healthcare  Profession_Homemaker  Profession_Lawyer  \\\n",
       "clust_k                                                                   \n",
       "0                     0.175676              0.025799           0.068796   \n",
       "1                     0.165261              0.032884           0.072513   \n",
       "\n",
       "         Profession_Marketing  \n",
       "clust_k                        \n",
       "0                    0.039312  \n",
       "1                    0.044688  "
      ]
     },
     "execution_count": 24,
     "metadata": {},
     "output_type": "execute_result"
    }
   ],
   "source": [
    "data_clust_k.groupby(\"clust_k\").mean()"
   ]
  },
  {
   "cell_type": "code",
   "execution_count": 25,
   "id": "045e3c0c",
   "metadata": {
    "execution": {
     "iopub.execute_input": "2023-05-04T22:17:58.711481Z",
     "iopub.status.busy": "2023-05-04T22:17:58.710606Z",
     "iopub.status.idle": "2023-05-04T22:17:58.747493Z",
     "shell.execute_reply": "2023-05-04T22:17:58.746396Z"
    },
    "papermill": {
     "duration": 0.065052,
     "end_time": "2023-05-04T22:17:58.749988",
     "exception": false,
     "start_time": "2023-05-04T22:17:58.684936",
     "status": "completed"
    },
    "tags": []
   },
   "outputs": [
    {
     "name": "stdout",
     "output_type": "stream",
     "text": [
      "Cluster  0\n",
      "\n"
     ]
    },
    {
     "data": {
      "text/html": [
       "<div>\n",
       "<style scoped>\n",
       "    .dataframe tbody tr th:only-of-type {\n",
       "        vertical-align: middle;\n",
       "    }\n",
       "\n",
       "    .dataframe tbody tr th {\n",
       "        vertical-align: top;\n",
       "    }\n",
       "\n",
       "    .dataframe thead th {\n",
       "        text-align: right;\n",
       "    }\n",
       "</style>\n",
       "<table border=\"1\" class=\"dataframe\">\n",
       "  <thead>\n",
       "    <tr style=\"text-align: right;\">\n",
       "      <th></th>\n",
       "      <th>Age</th>\n",
       "      <th>Annual Income ($)</th>\n",
       "      <th>Spending Score (1-100)</th>\n",
       "      <th>Work Experience</th>\n",
       "      <th>Family Size</th>\n",
       "      <th>Gender_Female</th>\n",
       "      <th>Gender_Male</th>\n",
       "      <th>Profession_Artist</th>\n",
       "      <th>Profession_Doctor</th>\n",
       "      <th>Profession_Engineer</th>\n",
       "      <th>Profession_Entertainment</th>\n",
       "      <th>Profession_Executive</th>\n",
       "      <th>Profession_Healthcare</th>\n",
       "      <th>Profession_Homemaker</th>\n",
       "      <th>Profession_Lawyer</th>\n",
       "      <th>Profession_Marketing</th>\n",
       "      <th>clust_k</th>\n",
       "    </tr>\n",
       "  </thead>\n",
       "  <tbody>\n",
       "    <tr>\n",
       "      <th>0</th>\n",
       "      <td>19</td>\n",
       "      <td>15000</td>\n",
       "      <td>39</td>\n",
       "      <td>1</td>\n",
       "      <td>4</td>\n",
       "      <td>0</td>\n",
       "      <td>1</td>\n",
       "      <td>0</td>\n",
       "      <td>0</td>\n",
       "      <td>0</td>\n",
       "      <td>0</td>\n",
       "      <td>0</td>\n",
       "      <td>1</td>\n",
       "      <td>0</td>\n",
       "      <td>0</td>\n",
       "      <td>0</td>\n",
       "      <td>0</td>\n",
       "    </tr>\n",
       "    <tr>\n",
       "      <th>1</th>\n",
       "      <td>21</td>\n",
       "      <td>35000</td>\n",
       "      <td>81</td>\n",
       "      <td>3</td>\n",
       "      <td>3</td>\n",
       "      <td>0</td>\n",
       "      <td>1</td>\n",
       "      <td>0</td>\n",
       "      <td>0</td>\n",
       "      <td>1</td>\n",
       "      <td>0</td>\n",
       "      <td>0</td>\n",
       "      <td>0</td>\n",
       "      <td>0</td>\n",
       "      <td>0</td>\n",
       "      <td>0</td>\n",
       "      <td>0</td>\n",
       "    </tr>\n",
       "    <tr>\n",
       "      <th>8</th>\n",
       "      <td>64</td>\n",
       "      <td>97000</td>\n",
       "      <td>3</td>\n",
       "      <td>0</td>\n",
       "      <td>3</td>\n",
       "      <td>0</td>\n",
       "      <td>1</td>\n",
       "      <td>0</td>\n",
       "      <td>0</td>\n",
       "      <td>1</td>\n",
       "      <td>0</td>\n",
       "      <td>0</td>\n",
       "      <td>0</td>\n",
       "      <td>0</td>\n",
       "      <td>0</td>\n",
       "      <td>0</td>\n",
       "      <td>0</td>\n",
       "    </tr>\n",
       "    <tr>\n",
       "      <th>10</th>\n",
       "      <td>67</td>\n",
       "      <td>7000</td>\n",
       "      <td>14</td>\n",
       "      <td>1</td>\n",
       "      <td>3</td>\n",
       "      <td>0</td>\n",
       "      <td>1</td>\n",
       "      <td>0</td>\n",
       "      <td>0</td>\n",
       "      <td>1</td>\n",
       "      <td>0</td>\n",
       "      <td>0</td>\n",
       "      <td>0</td>\n",
       "      <td>0</td>\n",
       "      <td>0</td>\n",
       "      <td>0</td>\n",
       "      <td>0</td>\n",
       "    </tr>\n",
       "    <tr>\n",
       "      <th>14</th>\n",
       "      <td>37</td>\n",
       "      <td>19000</td>\n",
       "      <td>13</td>\n",
       "      <td>0</td>\n",
       "      <td>1</td>\n",
       "      <td>0</td>\n",
       "      <td>1</td>\n",
       "      <td>0</td>\n",
       "      <td>1</td>\n",
       "      <td>0</td>\n",
       "      <td>0</td>\n",
       "      <td>0</td>\n",
       "      <td>0</td>\n",
       "      <td>0</td>\n",
       "      <td>0</td>\n",
       "      <td>0</td>\n",
       "      <td>0</td>\n",
       "    </tr>\n",
       "    <tr>\n",
       "      <th>...</th>\n",
       "      <td>...</td>\n",
       "      <td>...</td>\n",
       "      <td>...</td>\n",
       "      <td>...</td>\n",
       "      <td>...</td>\n",
       "      <td>...</td>\n",
       "      <td>...</td>\n",
       "      <td>...</td>\n",
       "      <td>...</td>\n",
       "      <td>...</td>\n",
       "      <td>...</td>\n",
       "      <td>...</td>\n",
       "      <td>...</td>\n",
       "      <td>...</td>\n",
       "      <td>...</td>\n",
       "      <td>...</td>\n",
       "      <td>...</td>\n",
       "    </tr>\n",
       "    <tr>\n",
       "      <th>1987</th>\n",
       "      <td>63</td>\n",
       "      <td>59244</td>\n",
       "      <td>80</td>\n",
       "      <td>7</td>\n",
       "      <td>1</td>\n",
       "      <td>0</td>\n",
       "      <td>1</td>\n",
       "      <td>1</td>\n",
       "      <td>0</td>\n",
       "      <td>0</td>\n",
       "      <td>0</td>\n",
       "      <td>0</td>\n",
       "      <td>0</td>\n",
       "      <td>0</td>\n",
       "      <td>0</td>\n",
       "      <td>0</td>\n",
       "      <td>0</td>\n",
       "    </tr>\n",
       "    <tr>\n",
       "      <th>1992</th>\n",
       "      <td>94</td>\n",
       "      <td>181183</td>\n",
       "      <td>24</td>\n",
       "      <td>9</td>\n",
       "      <td>3</td>\n",
       "      <td>0</td>\n",
       "      <td>1</td>\n",
       "      <td>0</td>\n",
       "      <td>0</td>\n",
       "      <td>0</td>\n",
       "      <td>0</td>\n",
       "      <td>0</td>\n",
       "      <td>0</td>\n",
       "      <td>0</td>\n",
       "      <td>0</td>\n",
       "      <td>1</td>\n",
       "      <td>0</td>\n",
       "    </tr>\n",
       "    <tr>\n",
       "      <th>1997</th>\n",
       "      <td>87</td>\n",
       "      <td>90961</td>\n",
       "      <td>14</td>\n",
       "      <td>9</td>\n",
       "      <td>2</td>\n",
       "      <td>0</td>\n",
       "      <td>1</td>\n",
       "      <td>0</td>\n",
       "      <td>0</td>\n",
       "      <td>0</td>\n",
       "      <td>0</td>\n",
       "      <td>0</td>\n",
       "      <td>1</td>\n",
       "      <td>0</td>\n",
       "      <td>0</td>\n",
       "      <td>0</td>\n",
       "      <td>0</td>\n",
       "    </tr>\n",
       "    <tr>\n",
       "      <th>1998</th>\n",
       "      <td>77</td>\n",
       "      <td>182109</td>\n",
       "      <td>4</td>\n",
       "      <td>7</td>\n",
       "      <td>2</td>\n",
       "      <td>0</td>\n",
       "      <td>1</td>\n",
       "      <td>0</td>\n",
       "      <td>0</td>\n",
       "      <td>0</td>\n",
       "      <td>0</td>\n",
       "      <td>1</td>\n",
       "      <td>0</td>\n",
       "      <td>0</td>\n",
       "      <td>0</td>\n",
       "      <td>0</td>\n",
       "      <td>0</td>\n",
       "    </tr>\n",
       "    <tr>\n",
       "      <th>1999</th>\n",
       "      <td>90</td>\n",
       "      <td>110610</td>\n",
       "      <td>52</td>\n",
       "      <td>5</td>\n",
       "      <td>2</td>\n",
       "      <td>0</td>\n",
       "      <td>1</td>\n",
       "      <td>0</td>\n",
       "      <td>0</td>\n",
       "      <td>0</td>\n",
       "      <td>1</td>\n",
       "      <td>0</td>\n",
       "      <td>0</td>\n",
       "      <td>0</td>\n",
       "      <td>0</td>\n",
       "      <td>0</td>\n",
       "      <td>0</td>\n",
       "    </tr>\n",
       "  </tbody>\n",
       "</table>\n",
       "<p>814 rows × 17 columns</p>\n",
       "</div>"
      ],
      "text/plain": [
       "      Age  Annual Income ($)  Spending Score (1-100)  Work Experience  \\\n",
       "0      19              15000                      39                1   \n",
       "1      21              35000                      81                3   \n",
       "8      64              97000                       3                0   \n",
       "10     67               7000                      14                1   \n",
       "14     37              19000                      13                0   \n",
       "...   ...                ...                     ...              ...   \n",
       "1987   63              59244                      80                7   \n",
       "1992   94             181183                      24                9   \n",
       "1997   87              90961                      14                9   \n",
       "1998   77             182109                       4                7   \n",
       "1999   90             110610                      52                5   \n",
       "\n",
       "      Family Size  Gender_Female  Gender_Male  Profession_Artist  \\\n",
       "0               4              0            1                  0   \n",
       "1               3              0            1                  0   \n",
       "8               3              0            1                  0   \n",
       "10              3              0            1                  0   \n",
       "14              1              0            1                  0   \n",
       "...           ...            ...          ...                ...   \n",
       "1987            1              0            1                  1   \n",
       "1992            3              0            1                  0   \n",
       "1997            2              0            1                  0   \n",
       "1998            2              0            1                  0   \n",
       "1999            2              0            1                  0   \n",
       "\n",
       "      Profession_Doctor  Profession_Engineer  Profession_Entertainment  \\\n",
       "0                     0                    0                         0   \n",
       "1                     0                    1                         0   \n",
       "8                     0                    1                         0   \n",
       "10                    0                    1                         0   \n",
       "14                    1                    0                         0   \n",
       "...                 ...                  ...                       ...   \n",
       "1987                  0                    0                         0   \n",
       "1992                  0                    0                         0   \n",
       "1997                  0                    0                         0   \n",
       "1998                  0                    0                         0   \n",
       "1999                  0                    0                         1   \n",
       "\n",
       "      Profession_Executive  Profession_Healthcare  Profession_Homemaker  \\\n",
       "0                        0                      1                     0   \n",
       "1                        0                      0                     0   \n",
       "8                        0                      0                     0   \n",
       "10                       0                      0                     0   \n",
       "14                       0                      0                     0   \n",
       "...                    ...                    ...                   ...   \n",
       "1987                     0                      0                     0   \n",
       "1992                     0                      0                     0   \n",
       "1997                     0                      1                     0   \n",
       "1998                     1                      0                     0   \n",
       "1999                     0                      0                     0   \n",
       "\n",
       "      Profession_Lawyer  Profession_Marketing  clust_k  \n",
       "0                     0                     0        0  \n",
       "1                     0                     0        0  \n",
       "8                     0                     0        0  \n",
       "10                    0                     0        0  \n",
       "14                    0                     0        0  \n",
       "...                 ...                   ...      ...  \n",
       "1987                  0                     0        0  \n",
       "1992                  0                     1        0  \n",
       "1997                  0                     0        0  \n",
       "1998                  0                     0        0  \n",
       "1999                  0                     0        0  \n",
       "\n",
       "[814 rows x 17 columns]"
      ]
     },
     "metadata": {},
     "output_type": "display_data"
    },
    {
     "name": "stdout",
     "output_type": "stream",
     "text": [
      "\n",
      " ---------------------------------------------------------------------------------------------------------------------------------------------------------------- \n",
      "\n",
      "Cluster  1\n",
      "\n"
     ]
    },
    {
     "data": {
      "text/html": [
       "<div>\n",
       "<style scoped>\n",
       "    .dataframe tbody tr th:only-of-type {\n",
       "        vertical-align: middle;\n",
       "    }\n",
       "\n",
       "    .dataframe tbody tr th {\n",
       "        vertical-align: top;\n",
       "    }\n",
       "\n",
       "    .dataframe thead th {\n",
       "        text-align: right;\n",
       "    }\n",
       "</style>\n",
       "<table border=\"1\" class=\"dataframe\">\n",
       "  <thead>\n",
       "    <tr style=\"text-align: right;\">\n",
       "      <th></th>\n",
       "      <th>Age</th>\n",
       "      <th>Annual Income ($)</th>\n",
       "      <th>Spending Score (1-100)</th>\n",
       "      <th>Work Experience</th>\n",
       "      <th>Family Size</th>\n",
       "      <th>Gender_Female</th>\n",
       "      <th>Gender_Male</th>\n",
       "      <th>Profession_Artist</th>\n",
       "      <th>Profession_Doctor</th>\n",
       "      <th>Profession_Engineer</th>\n",
       "      <th>Profession_Entertainment</th>\n",
       "      <th>Profession_Executive</th>\n",
       "      <th>Profession_Healthcare</th>\n",
       "      <th>Profession_Homemaker</th>\n",
       "      <th>Profession_Lawyer</th>\n",
       "      <th>Profession_Marketing</th>\n",
       "      <th>clust_k</th>\n",
       "    </tr>\n",
       "  </thead>\n",
       "  <tbody>\n",
       "    <tr>\n",
       "      <th>2</th>\n",
       "      <td>20</td>\n",
       "      <td>86000</td>\n",
       "      <td>6</td>\n",
       "      <td>1</td>\n",
       "      <td>1</td>\n",
       "      <td>1</td>\n",
       "      <td>0</td>\n",
       "      <td>0</td>\n",
       "      <td>0</td>\n",
       "      <td>1</td>\n",
       "      <td>0</td>\n",
       "      <td>0</td>\n",
       "      <td>0</td>\n",
       "      <td>0</td>\n",
       "      <td>0</td>\n",
       "      <td>0</td>\n",
       "      <td>1</td>\n",
       "    </tr>\n",
       "    <tr>\n",
       "      <th>3</th>\n",
       "      <td>23</td>\n",
       "      <td>59000</td>\n",
       "      <td>77</td>\n",
       "      <td>0</td>\n",
       "      <td>2</td>\n",
       "      <td>1</td>\n",
       "      <td>0</td>\n",
       "      <td>0</td>\n",
       "      <td>0</td>\n",
       "      <td>0</td>\n",
       "      <td>0</td>\n",
       "      <td>0</td>\n",
       "      <td>0</td>\n",
       "      <td>0</td>\n",
       "      <td>1</td>\n",
       "      <td>0</td>\n",
       "      <td>1</td>\n",
       "    </tr>\n",
       "    <tr>\n",
       "      <th>4</th>\n",
       "      <td>31</td>\n",
       "      <td>38000</td>\n",
       "      <td>40</td>\n",
       "      <td>2</td>\n",
       "      <td>6</td>\n",
       "      <td>1</td>\n",
       "      <td>0</td>\n",
       "      <td>0</td>\n",
       "      <td>0</td>\n",
       "      <td>0</td>\n",
       "      <td>1</td>\n",
       "      <td>0</td>\n",
       "      <td>0</td>\n",
       "      <td>0</td>\n",
       "      <td>0</td>\n",
       "      <td>0</td>\n",
       "      <td>1</td>\n",
       "    </tr>\n",
       "    <tr>\n",
       "      <th>5</th>\n",
       "      <td>22</td>\n",
       "      <td>58000</td>\n",
       "      <td>76</td>\n",
       "      <td>0</td>\n",
       "      <td>2</td>\n",
       "      <td>1</td>\n",
       "      <td>0</td>\n",
       "      <td>1</td>\n",
       "      <td>0</td>\n",
       "      <td>0</td>\n",
       "      <td>0</td>\n",
       "      <td>0</td>\n",
       "      <td>0</td>\n",
       "      <td>0</td>\n",
       "      <td>0</td>\n",
       "      <td>0</td>\n",
       "      <td>1</td>\n",
       "    </tr>\n",
       "    <tr>\n",
       "      <th>6</th>\n",
       "      <td>35</td>\n",
       "      <td>31000</td>\n",
       "      <td>6</td>\n",
       "      <td>1</td>\n",
       "      <td>3</td>\n",
       "      <td>1</td>\n",
       "      <td>0</td>\n",
       "      <td>0</td>\n",
       "      <td>0</td>\n",
       "      <td>0</td>\n",
       "      <td>0</td>\n",
       "      <td>0</td>\n",
       "      <td>1</td>\n",
       "      <td>0</td>\n",
       "      <td>0</td>\n",
       "      <td>0</td>\n",
       "      <td>1</td>\n",
       "    </tr>\n",
       "    <tr>\n",
       "      <th>...</th>\n",
       "      <td>...</td>\n",
       "      <td>...</td>\n",
       "      <td>...</td>\n",
       "      <td>...</td>\n",
       "      <td>...</td>\n",
       "      <td>...</td>\n",
       "      <td>...</td>\n",
       "      <td>...</td>\n",
       "      <td>...</td>\n",
       "      <td>...</td>\n",
       "      <td>...</td>\n",
       "      <td>...</td>\n",
       "      <td>...</td>\n",
       "      <td>...</td>\n",
       "      <td>...</td>\n",
       "      <td>...</td>\n",
       "      <td>...</td>\n",
       "    </tr>\n",
       "    <tr>\n",
       "      <th>1991</th>\n",
       "      <td>97</td>\n",
       "      <td>129444</td>\n",
       "      <td>96</td>\n",
       "      <td>5</td>\n",
       "      <td>6</td>\n",
       "      <td>1</td>\n",
       "      <td>0</td>\n",
       "      <td>0</td>\n",
       "      <td>0</td>\n",
       "      <td>0</td>\n",
       "      <td>1</td>\n",
       "      <td>0</td>\n",
       "      <td>0</td>\n",
       "      <td>0</td>\n",
       "      <td>0</td>\n",
       "      <td>0</td>\n",
       "      <td>1</td>\n",
       "    </tr>\n",
       "    <tr>\n",
       "      <th>1993</th>\n",
       "      <td>64</td>\n",
       "      <td>175254</td>\n",
       "      <td>100</td>\n",
       "      <td>9</td>\n",
       "      <td>5</td>\n",
       "      <td>1</td>\n",
       "      <td>0</td>\n",
       "      <td>1</td>\n",
       "      <td>0</td>\n",
       "      <td>0</td>\n",
       "      <td>0</td>\n",
       "      <td>0</td>\n",
       "      <td>0</td>\n",
       "      <td>0</td>\n",
       "      <td>0</td>\n",
       "      <td>0</td>\n",
       "      <td>1</td>\n",
       "    </tr>\n",
       "    <tr>\n",
       "      <th>1994</th>\n",
       "      <td>19</td>\n",
       "      <td>54121</td>\n",
       "      <td>89</td>\n",
       "      <td>6</td>\n",
       "      <td>3</td>\n",
       "      <td>1</td>\n",
       "      <td>0</td>\n",
       "      <td>0</td>\n",
       "      <td>0</td>\n",
       "      <td>1</td>\n",
       "      <td>0</td>\n",
       "      <td>0</td>\n",
       "      <td>0</td>\n",
       "      <td>0</td>\n",
       "      <td>0</td>\n",
       "      <td>0</td>\n",
       "      <td>1</td>\n",
       "    </tr>\n",
       "    <tr>\n",
       "      <th>1995</th>\n",
       "      <td>71</td>\n",
       "      <td>184387</td>\n",
       "      <td>40</td>\n",
       "      <td>8</td>\n",
       "      <td>7</td>\n",
       "      <td>1</td>\n",
       "      <td>0</td>\n",
       "      <td>1</td>\n",
       "      <td>0</td>\n",
       "      <td>0</td>\n",
       "      <td>0</td>\n",
       "      <td>0</td>\n",
       "      <td>0</td>\n",
       "      <td>0</td>\n",
       "      <td>0</td>\n",
       "      <td>0</td>\n",
       "      <td>1</td>\n",
       "    </tr>\n",
       "    <tr>\n",
       "      <th>1996</th>\n",
       "      <td>91</td>\n",
       "      <td>73158</td>\n",
       "      <td>32</td>\n",
       "      <td>7</td>\n",
       "      <td>7</td>\n",
       "      <td>1</td>\n",
       "      <td>0</td>\n",
       "      <td>0</td>\n",
       "      <td>1</td>\n",
       "      <td>0</td>\n",
       "      <td>0</td>\n",
       "      <td>0</td>\n",
       "      <td>0</td>\n",
       "      <td>0</td>\n",
       "      <td>0</td>\n",
       "      <td>0</td>\n",
       "      <td>1</td>\n",
       "    </tr>\n",
       "  </tbody>\n",
       "</table>\n",
       "<p>1186 rows × 17 columns</p>\n",
       "</div>"
      ],
      "text/plain": [
       "      Age  Annual Income ($)  Spending Score (1-100)  Work Experience  \\\n",
       "2      20              86000                       6                1   \n",
       "3      23              59000                      77                0   \n",
       "4      31              38000                      40                2   \n",
       "5      22              58000                      76                0   \n",
       "6      35              31000                       6                1   \n",
       "...   ...                ...                     ...              ...   \n",
       "1991   97             129444                      96                5   \n",
       "1993   64             175254                     100                9   \n",
       "1994   19              54121                      89                6   \n",
       "1995   71             184387                      40                8   \n",
       "1996   91              73158                      32                7   \n",
       "\n",
       "      Family Size  Gender_Female  Gender_Male  Profession_Artist  \\\n",
       "2               1              1            0                  0   \n",
       "3               2              1            0                  0   \n",
       "4               6              1            0                  0   \n",
       "5               2              1            0                  1   \n",
       "6               3              1            0                  0   \n",
       "...           ...            ...          ...                ...   \n",
       "1991            6              1            0                  0   \n",
       "1993            5              1            0                  1   \n",
       "1994            3              1            0                  0   \n",
       "1995            7              1            0                  1   \n",
       "1996            7              1            0                  0   \n",
       "\n",
       "      Profession_Doctor  Profession_Engineer  Profession_Entertainment  \\\n",
       "2                     0                    1                         0   \n",
       "3                     0                    0                         0   \n",
       "4                     0                    0                         1   \n",
       "5                     0                    0                         0   \n",
       "6                     0                    0                         0   \n",
       "...                 ...                  ...                       ...   \n",
       "1991                  0                    0                         1   \n",
       "1993                  0                    0                         0   \n",
       "1994                  0                    1                         0   \n",
       "1995                  0                    0                         0   \n",
       "1996                  1                    0                         0   \n",
       "\n",
       "      Profession_Executive  Profession_Healthcare  Profession_Homemaker  \\\n",
       "2                        0                      0                     0   \n",
       "3                        0                      0                     0   \n",
       "4                        0                      0                     0   \n",
       "5                        0                      0                     0   \n",
       "6                        0                      1                     0   \n",
       "...                    ...                    ...                   ...   \n",
       "1991                     0                      0                     0   \n",
       "1993                     0                      0                     0   \n",
       "1994                     0                      0                     0   \n",
       "1995                     0                      0                     0   \n",
       "1996                     0                      0                     0   \n",
       "\n",
       "      Profession_Lawyer  Profession_Marketing  clust_k  \n",
       "2                     0                     0        1  \n",
       "3                     1                     0        1  \n",
       "4                     0                     0        1  \n",
       "5                     0                     0        1  \n",
       "6                     0                     0        1  \n",
       "...                 ...                   ...      ...  \n",
       "1991                  0                     0        1  \n",
       "1993                  0                     0        1  \n",
       "1994                  0                     0        1  \n",
       "1995                  0                     0        1  \n",
       "1996                  0                     0        1  \n",
       "\n",
       "[1186 rows x 17 columns]"
      ]
     },
     "metadata": {},
     "output_type": "display_data"
    },
    {
     "name": "stdout",
     "output_type": "stream",
     "text": [
      "\n",
      " ---------------------------------------------------------------------------------------------------------------------------------------------------------------- \n",
      "\n"
     ]
    }
   ],
   "source": [
    "for nom, df in data_clust_k.groupby(\"clust_k\"):\n",
    "    print(\"Cluster \",nom)\n",
    "    print()\n",
    "    display(df)\n",
    "    print(\"\\n\",\"-\"*160,\"\\n\")"
   ]
  },
  {
   "cell_type": "code",
   "execution_count": 26,
   "id": "67f878b5",
   "metadata": {
    "execution": {
     "iopub.execute_input": "2023-05-04T22:17:58.802537Z",
     "iopub.status.busy": "2023-05-04T22:17:58.802085Z",
     "iopub.status.idle": "2023-05-04T22:17:58.809812Z",
     "shell.execute_reply": "2023-05-04T22:17:58.808970Z"
    },
    "papermill": {
     "duration": 0.036648,
     "end_time": "2023-05-04T22:17:58.811940",
     "exception": false,
     "start_time": "2023-05-04T22:17:58.775292",
     "status": "completed"
    },
    "tags": []
   },
   "outputs": [
    {
     "data": {
      "text/plain": [
       "1    1186\n",
       "0     814\n",
       "Name: clust_k, dtype: int64"
      ]
     },
     "execution_count": 26,
     "metadata": {},
     "output_type": "execute_result"
    }
   ],
   "source": [
    "data_clust_k[\"clust_k\"].value_counts()"
   ]
  },
  {
   "cell_type": "code",
   "execution_count": 27,
   "id": "17a9db63",
   "metadata": {
    "execution": {
     "iopub.execute_input": "2023-05-04T22:17:58.864085Z",
     "iopub.status.busy": "2023-05-04T22:17:58.863533Z",
     "iopub.status.idle": "2023-05-04T22:17:59.140760Z",
     "shell.execute_reply": "2023-05-04T22:17:59.139511Z"
    },
    "papermill": {
     "duration": 0.306494,
     "end_time": "2023-05-04T22:17:59.143178",
     "exception": false,
     "start_time": "2023-05-04T22:17:58.836684",
     "status": "completed"
    },
    "tags": []
   },
   "outputs": [
    {
     "data": {
      "image/png": "[encoded data removed]",
      "text/plain": [
       "<Figure size 500x300 with 1 Axes>"
      ]
     },
     "metadata": {},
     "output_type": "display_data"
    }
   ],
   "source": [
    "plt.figure(figsize=(5,3))\n",
    "data_clust_k[\"clust_k\"].value_counts().plot(kind=\"bar\", color=\"c\")\n",
    "plt.xticks(rotation=0)\n",
    "plt.title(\"Cantidad de datos por clusters - Método kmeans\")\n",
    "plt.show()"
   ]
  },
  {
   "cell_type": "markdown",
   "id": "64ed1876",
   "metadata": {
    "papermill": {
     "duration": 0.024766,
     "end_time": "2023-05-04T22:17:59.192518",
     "exception": false,
     "start_time": "2023-05-04T22:17:59.167752",
     "status": "completed"
    },
    "tags": []
   },
   "source": [
    "> * ### Clustering jerárquico"
   ]
  },
  {
   "cell_type": "code",
   "execution_count": 28,
   "id": "d2c7fd4d",
   "metadata": {
    "execution": {
     "iopub.execute_input": "2023-05-04T22:17:59.245793Z",
     "iopub.status.busy": "2023-05-04T22:17:59.245356Z",
     "iopub.status.idle": "2023-05-04T22:17:59.250305Z",
     "shell.execute_reply": "2023-05-04T22:17:59.249329Z"
    },
    "papermill": {
     "duration": 0.033902,
     "end_time": "2023-05-04T22:17:59.252283",
     "exception": false,
     "start_time": "2023-05-04T22:17:59.218381",
     "status": "completed"
    },
    "tags": []
   },
   "outputs": [],
   "source": [
    "from scipy.cluster.hierarchy import dendrogram, linkage"
   ]
  },
  {
   "cell_type": "code",
   "execution_count": 29,
   "id": "1e146fe8",
   "metadata": {
    "execution": {
     "iopub.execute_input": "2023-05-04T22:17:59.304677Z",
     "iopub.status.busy": "2023-05-04T22:17:59.303902Z",
     "iopub.status.idle": "2023-05-04T22:17:59.309109Z",
     "shell.execute_reply": "2023-05-04T22:17:59.307932Z"
    },
    "papermill": {
     "duration": 0.034033,
     "end_time": "2023-05-04T22:17:59.311140",
     "exception": false,
     "start_time": "2023-05-04T22:17:59.277107",
     "status": "completed"
    },
    "tags": []
   },
   "outputs": [],
   "source": [
    "data_clust_h = data_copy_norm.copy()"
   ]
  },
  {
   "cell_type": "code",
   "execution_count": 30,
   "id": "a36983e6",
   "metadata": {
    "execution": {
     "iopub.execute_input": "2023-05-04T22:17:59.363314Z",
     "iopub.status.busy": "2023-05-04T22:17:59.362908Z",
     "iopub.status.idle": "2023-05-04T22:17:59.494094Z",
     "shell.execute_reply": "2023-05-04T22:17:59.492961Z"
    },
    "papermill": {
     "duration": 0.160437,
     "end_time": "2023-05-04T22:17:59.496652",
     "exception": false,
     "start_time": "2023-05-04T22:17:59.336215",
     "status": "completed"
    },
    "tags": []
   },
   "outputs": [],
   "source": [
    "Z = linkage(data_copy_norm, \"ward\")"
   ]
  },
  {
   "cell_type": "code",
   "execution_count": 31,
   "id": "bc0443bd",
   "metadata": {
    "execution": {
     "iopub.execute_input": "2023-05-04T22:17:59.549407Z",
     "iopub.status.busy": "2023-05-04T22:17:59.548664Z",
     "iopub.status.idle": "2023-05-04T22:18:00.657225Z",
     "shell.execute_reply": "2023-05-04T22:18:00.656078Z"
    },
    "papermill": {
     "duration": 1.137522,
     "end_time": "2023-05-04T22:18:00.659774",
     "exception": false,
     "start_time": "2023-05-04T22:17:59.522252",
     "status": "completed"
    },
    "tags": []
   },
   "outputs": [
    {
     "data": {
      "image/png": "[encoded data removed]",
      "text/plain": [
       "<Figure size 500x300 with 1 Axes>"
      ]
     },
     "metadata": {},
     "output_type": "display_data"
    }
   ],
   "source": [
    "plt.figure(figsize=(5,3))\n",
    "plt.title(\"Dendrograma de clasificación de grupos de clientes\")\n",
    "dendrogram(Z, leaf_font_size=10, truncate_mode=\"lastp\",\n",
    "           p=10, show_leaf_counts=True, show_contracted=True)\n",
    "plt.show()"
   ]
  },
  {
   "cell_type": "code",
   "execution_count": 32,
   "id": "08198f03",
   "metadata": {
    "execution": {
     "iopub.execute_input": "2023-05-04T22:18:00.714369Z",
     "iopub.status.busy": "2023-05-04T22:18:00.713237Z",
     "iopub.status.idle": "2023-05-04T22:18:00.718899Z",
     "shell.execute_reply": "2023-05-04T22:18:00.717583Z"
    },
    "papermill": {
     "duration": 0.035742,
     "end_time": "2023-05-04T22:18:00.721527",
     "exception": false,
     "start_time": "2023-05-04T22:18:00.685785",
     "status": "completed"
    },
    "tags": []
   },
   "outputs": [],
   "source": [
    "from sklearn.cluster import AgglomerativeClustering"
   ]
  },
  {
   "cell_type": "code",
   "execution_count": 33,
   "id": "968de6b7",
   "metadata": {
    "execution": {
     "iopub.execute_input": "2023-05-04T22:18:00.777055Z",
     "iopub.status.busy": "2023-05-04T22:18:00.776089Z",
     "iopub.status.idle": "2023-05-04T22:18:00.911751Z",
     "shell.execute_reply": "2023-05-04T22:18:00.910685Z"
    },
    "papermill": {
     "duration": 0.166342,
     "end_time": "2023-05-04T22:18:00.914458",
     "exception": false,
     "start_time": "2023-05-04T22:18:00.748116",
     "status": "completed"
    },
    "tags": []
   },
   "outputs": [],
   "source": [
    "hierarchy = AgglomerativeClustering(n_clusters=2, linkage=\"ward\").fit_predict(data_copy_norm)"
   ]
  },
  {
   "cell_type": "code",
   "execution_count": 34,
   "id": "8362085b",
   "metadata": {
    "execution": {
     "iopub.execute_input": "2023-05-04T22:18:00.970483Z",
     "iopub.status.busy": "2023-05-04T22:18:00.969460Z",
     "iopub.status.idle": "2023-05-04T22:18:00.975012Z",
     "shell.execute_reply": "2023-05-04T22:18:00.973840Z"
    },
    "papermill": {
     "duration": 0.036357,
     "end_time": "2023-05-04T22:18:00.977183",
     "exception": false,
     "start_time": "2023-05-04T22:18:00.940826",
     "status": "completed"
    },
    "tags": []
   },
   "outputs": [],
   "source": [
    "clust_h = pd.Series(hierarchy)"
   ]
  },
  {
   "cell_type": "code",
   "execution_count": 35,
   "id": "0b2b8d85",
   "metadata": {
    "execution": {
     "iopub.execute_input": "2023-05-04T22:18:01.033265Z",
     "iopub.status.busy": "2023-05-04T22:18:01.032572Z",
     "iopub.status.idle": "2023-05-04T22:18:01.056987Z",
     "shell.execute_reply": "2023-05-04T22:18:01.056163Z"
    },
    "papermill": {
     "duration": 0.056107,
     "end_time": "2023-05-04T22:18:01.059027",
     "exception": false,
     "start_time": "2023-05-04T22:18:01.002920",
     "status": "completed"
    },
    "tags": []
   },
   "outputs": [
    {
     "data": {
      "text/html": [
       "<div>\n",
       "<style scoped>\n",
       "    .dataframe tbody tr th:only-of-type {\n",
       "        vertical-align: middle;\n",
       "    }\n",
       "\n",
       "    .dataframe tbody tr th {\n",
       "        vertical-align: top;\n",
       "    }\n",
       "\n",
       "    .dataframe thead th {\n",
       "        text-align: right;\n",
       "    }\n",
       "</style>\n",
       "<table border=\"1\" class=\"dataframe\">\n",
       "  <thead>\n",
       "    <tr style=\"text-align: right;\">\n",
       "      <th></th>\n",
       "      <th>Age</th>\n",
       "      <th>Annual Income ($)</th>\n",
       "      <th>Spending Score (1-100)</th>\n",
       "      <th>Work Experience</th>\n",
       "      <th>Family Size</th>\n",
       "      <th>Gender_Female</th>\n",
       "      <th>Gender_Male</th>\n",
       "      <th>Profession_Artist</th>\n",
       "      <th>Profession_Doctor</th>\n",
       "      <th>Profession_Engineer</th>\n",
       "      <th>Profession_Entertainment</th>\n",
       "      <th>Profession_Executive</th>\n",
       "      <th>Profession_Healthcare</th>\n",
       "      <th>Profession_Homemaker</th>\n",
       "      <th>Profession_Lawyer</th>\n",
       "      <th>Profession_Marketing</th>\n",
       "      <th>clust_h</th>\n",
       "    </tr>\n",
       "  </thead>\n",
       "  <tbody>\n",
       "    <tr>\n",
       "      <th>0</th>\n",
       "      <td>0.191919</td>\n",
       "      <td>0.078958</td>\n",
       "      <td>0.39</td>\n",
       "      <td>0.058824</td>\n",
       "      <td>0.375</td>\n",
       "      <td>0.0</td>\n",
       "      <td>1.0</td>\n",
       "      <td>0.0</td>\n",
       "      <td>0.0</td>\n",
       "      <td>0.0</td>\n",
       "      <td>0.0</td>\n",
       "      <td>0.0</td>\n",
       "      <td>1.0</td>\n",
       "      <td>0.0</td>\n",
       "      <td>0.0</td>\n",
       "      <td>0.0</td>\n",
       "      <td>1</td>\n",
       "    </tr>\n",
       "    <tr>\n",
       "      <th>1</th>\n",
       "      <td>0.212121</td>\n",
       "      <td>0.184236</td>\n",
       "      <td>0.81</td>\n",
       "      <td>0.176471</td>\n",
       "      <td>0.250</td>\n",
       "      <td>0.0</td>\n",
       "      <td>1.0</td>\n",
       "      <td>0.0</td>\n",
       "      <td>0.0</td>\n",
       "      <td>1.0</td>\n",
       "      <td>0.0</td>\n",
       "      <td>0.0</td>\n",
       "      <td>0.0</td>\n",
       "      <td>0.0</td>\n",
       "      <td>0.0</td>\n",
       "      <td>0.0</td>\n",
       "      <td>1</td>\n",
       "    </tr>\n",
       "    <tr>\n",
       "      <th>2</th>\n",
       "      <td>0.202020</td>\n",
       "      <td>0.452694</td>\n",
       "      <td>0.06</td>\n",
       "      <td>0.058824</td>\n",
       "      <td>0.000</td>\n",
       "      <td>1.0</td>\n",
       "      <td>0.0</td>\n",
       "      <td>0.0</td>\n",
       "      <td>0.0</td>\n",
       "      <td>1.0</td>\n",
       "      <td>0.0</td>\n",
       "      <td>0.0</td>\n",
       "      <td>0.0</td>\n",
       "      <td>0.0</td>\n",
       "      <td>0.0</td>\n",
       "      <td>0.0</td>\n",
       "      <td>0</td>\n",
       "    </tr>\n",
       "    <tr>\n",
       "      <th>3</th>\n",
       "      <td>0.232323</td>\n",
       "      <td>0.310569</td>\n",
       "      <td>0.77</td>\n",
       "      <td>0.000000</td>\n",
       "      <td>0.125</td>\n",
       "      <td>1.0</td>\n",
       "      <td>0.0</td>\n",
       "      <td>0.0</td>\n",
       "      <td>0.0</td>\n",
       "      <td>0.0</td>\n",
       "      <td>0.0</td>\n",
       "      <td>0.0</td>\n",
       "      <td>0.0</td>\n",
       "      <td>0.0</td>\n",
       "      <td>1.0</td>\n",
       "      <td>0.0</td>\n",
       "      <td>0</td>\n",
       "    </tr>\n",
       "    <tr>\n",
       "      <th>4</th>\n",
       "      <td>0.313131</td>\n",
       "      <td>0.200027</td>\n",
       "      <td>0.40</td>\n",
       "      <td>0.117647</td>\n",
       "      <td>0.625</td>\n",
       "      <td>1.0</td>\n",
       "      <td>0.0</td>\n",
       "      <td>0.0</td>\n",
       "      <td>0.0</td>\n",
       "      <td>0.0</td>\n",
       "      <td>1.0</td>\n",
       "      <td>0.0</td>\n",
       "      <td>0.0</td>\n",
       "      <td>0.0</td>\n",
       "      <td>0.0</td>\n",
       "      <td>0.0</td>\n",
       "      <td>0</td>\n",
       "    </tr>\n",
       "  </tbody>\n",
       "</table>\n",
       "</div>"
      ],
      "text/plain": [
       "        Age  Annual Income ($)  Spending Score (1-100)  Work Experience  \\\n",
       "0  0.191919           0.078958                    0.39         0.058824   \n",
       "1  0.212121           0.184236                    0.81         0.176471   \n",
       "2  0.202020           0.452694                    0.06         0.058824   \n",
       "3  0.232323           0.310569                    0.77         0.000000   \n",
       "4  0.313131           0.200027                    0.40         0.117647   \n",
       "\n",
       "   Family Size  Gender_Female  Gender_Male  Profession_Artist  \\\n",
       "0        0.375            0.0          1.0                0.0   \n",
       "1        0.250            0.0          1.0                0.0   \n",
       "2        0.000            1.0          0.0                0.0   \n",
       "3        0.125            1.0          0.0                0.0   \n",
       "4        0.625            1.0          0.0                0.0   \n",
       "\n",
       "   Profession_Doctor  Profession_Engineer  Profession_Entertainment  \\\n",
       "0                0.0                  0.0                       0.0   \n",
       "1                0.0                  1.0                       0.0   \n",
       "2                0.0                  1.0                       0.0   \n",
       "3                0.0                  0.0                       0.0   \n",
       "4                0.0                  0.0                       1.0   \n",
       "\n",
       "   Profession_Executive  Profession_Healthcare  Profession_Homemaker  \\\n",
       "0                   0.0                    1.0                   0.0   \n",
       "1                   0.0                    0.0                   0.0   \n",
       "2                   0.0                    0.0                   0.0   \n",
       "3                   0.0                    0.0                   0.0   \n",
       "4                   0.0                    0.0                   0.0   \n",
       "\n",
       "   Profession_Lawyer  Profession_Marketing  clust_h  \n",
       "0                0.0                   0.0        1  \n",
       "1                0.0                   0.0        1  \n",
       "2                0.0                   0.0        0  \n",
       "3                1.0                   0.0        0  \n",
       "4                0.0                   0.0        0  "
      ]
     },
     "execution_count": 35,
     "metadata": {},
     "output_type": "execute_result"
    }
   ],
   "source": [
    "data_clust_h[\"clust_h\"] = clust_h\n",
    "data_clust_h.head()"
   ]
  },
  {
   "cell_type": "code",
   "execution_count": 36,
   "id": "5e84d4f5",
   "metadata": {
    "execution": {
     "iopub.execute_input": "2023-05-04T22:18:01.114238Z",
     "iopub.status.busy": "2023-05-04T22:18:01.113539Z",
     "iopub.status.idle": "2023-05-04T22:18:01.125323Z",
     "shell.execute_reply": "2023-05-04T22:18:01.124498Z"
    },
    "papermill": {
     "duration": 0.042012,
     "end_time": "2023-05-04T22:18:01.127405",
     "exception": false,
     "start_time": "2023-05-04T22:18:01.085393",
     "status": "completed"
    },
    "tags": []
   },
   "outputs": [
    {
     "data": {
      "text/html": [
       "<div>\n",
       "<style scoped>\n",
       "    .dataframe tbody tr th:only-of-type {\n",
       "        vertical-align: middle;\n",
       "    }\n",
       "\n",
       "    .dataframe tbody tr th {\n",
       "        vertical-align: top;\n",
       "    }\n",
       "\n",
       "    .dataframe thead th {\n",
       "        text-align: right;\n",
       "    }\n",
       "</style>\n",
       "<table border=\"1\" class=\"dataframe\">\n",
       "  <thead>\n",
       "    <tr style=\"text-align: right;\">\n",
       "      <th></th>\n",
       "      <th>Age</th>\n",
       "      <th>Annual Income ($)</th>\n",
       "      <th>Spending Score (1-100)</th>\n",
       "      <th>Work Experience</th>\n",
       "      <th>Family Size</th>\n",
       "      <th>Gender_Female</th>\n",
       "      <th>Gender_Male</th>\n",
       "      <th>Profession_Artist</th>\n",
       "      <th>Profession_Doctor</th>\n",
       "      <th>Profession_Engineer</th>\n",
       "      <th>Profession_Entertainment</th>\n",
       "      <th>Profession_Executive</th>\n",
       "      <th>Profession_Healthcare</th>\n",
       "      <th>Profession_Homemaker</th>\n",
       "      <th>Profession_Lawyer</th>\n",
       "      <th>Profession_Marketing</th>\n",
       "      <th>clust_h</th>\n",
       "    </tr>\n",
       "  </thead>\n",
       "  <tbody>\n",
       "  </tbody>\n",
       "</table>\n",
       "</div>"
      ],
      "text/plain": [
       "Empty DataFrame\n",
       "Columns: [Age, Annual Income ($), Spending Score (1-100), Work Experience, Family Size, Gender_Female, Gender_Male, Profession_Artist, Profession_Doctor, Profession_Engineer, Profession_Entertainment, Profession_Executive, Profession_Healthcare, Profession_Homemaker, Profession_Lawyer, Profession_Marketing, clust_h]\n",
       "Index: []"
      ]
     },
     "execution_count": 36,
     "metadata": {},
     "output_type": "execute_result"
    }
   ],
   "source": [
    "data_clust_h[data_clust_h[\"clust_h\"].isnull()]"
   ]
  },
  {
   "cell_type": "code",
   "execution_count": 37,
   "id": "1f860f24",
   "metadata": {
    "execution": {
     "iopub.execute_input": "2023-05-04T22:18:01.182746Z",
     "iopub.status.busy": "2023-05-04T22:18:01.182036Z",
     "iopub.status.idle": "2023-05-04T22:18:01.201976Z",
     "shell.execute_reply": "2023-05-04T22:18:01.200912Z"
    },
    "papermill": {
     "duration": 0.050388,
     "end_time": "2023-05-04T22:18:01.204492",
     "exception": false,
     "start_time": "2023-05-04T22:18:01.154104",
     "status": "completed"
    },
    "tags": []
   },
   "outputs": [
    {
     "data": {
      "text/html": [
       "<div>\n",
       "<style scoped>\n",
       "    .dataframe tbody tr th:only-of-type {\n",
       "        vertical-align: middle;\n",
       "    }\n",
       "\n",
       "    .dataframe tbody tr th {\n",
       "        vertical-align: top;\n",
       "    }\n",
       "\n",
       "    .dataframe thead th {\n",
       "        text-align: right;\n",
       "    }\n",
       "</style>\n",
       "<table border=\"1\" class=\"dataframe\">\n",
       "  <thead>\n",
       "    <tr style=\"text-align: right;\">\n",
       "      <th></th>\n",
       "      <th>Age</th>\n",
       "      <th>Annual Income ($)</th>\n",
       "      <th>Spending Score (1-100)</th>\n",
       "      <th>Work Experience</th>\n",
       "      <th>Family Size</th>\n",
       "      <th>Gender_Female</th>\n",
       "      <th>Gender_Male</th>\n",
       "      <th>Profession_Artist</th>\n",
       "      <th>Profession_Doctor</th>\n",
       "      <th>Profession_Engineer</th>\n",
       "      <th>Profession_Entertainment</th>\n",
       "      <th>Profession_Executive</th>\n",
       "      <th>Profession_Healthcare</th>\n",
       "      <th>Profession_Homemaker</th>\n",
       "      <th>Profession_Lawyer</th>\n",
       "      <th>Profession_Marketing</th>\n",
       "    </tr>\n",
       "    <tr>\n",
       "      <th>clust_h</th>\n",
       "      <th></th>\n",
       "      <th></th>\n",
       "      <th></th>\n",
       "      <th></th>\n",
       "      <th></th>\n",
       "      <th></th>\n",
       "      <th></th>\n",
       "      <th></th>\n",
       "      <th></th>\n",
       "      <th></th>\n",
       "      <th></th>\n",
       "      <th></th>\n",
       "      <th></th>\n",
       "      <th></th>\n",
       "      <th></th>\n",
       "      <th></th>\n",
       "    </tr>\n",
       "  </thead>\n",
       "  <tbody>\n",
       "    <tr>\n",
       "      <th>0</th>\n",
       "      <td>0.493161</td>\n",
       "      <td>0.581941</td>\n",
       "      <td>0.509747</td>\n",
       "      <td>0.237377</td>\n",
       "      <td>0.346016</td>\n",
       "      <td>1.0</td>\n",
       "      <td>0.0</td>\n",
       "      <td>0.320405</td>\n",
       "      <td>0.075042</td>\n",
       "      <td>0.086847</td>\n",
       "      <td>0.112142</td>\n",
       "      <td>0.073356</td>\n",
       "      <td>0.165261</td>\n",
       "      <td>0.032884</td>\n",
       "      <td>0.072513</td>\n",
       "      <td>0.044688</td>\n",
       "    </tr>\n",
       "    <tr>\n",
       "      <th>1</th>\n",
       "      <td>0.496563</td>\n",
       "      <td>0.584245</td>\n",
       "      <td>0.509447</td>\n",
       "      <td>0.247073</td>\n",
       "      <td>0.346130</td>\n",
       "      <td>0.0</td>\n",
       "      <td>1.0</td>\n",
       "      <td>0.285012</td>\n",
       "      <td>0.088452</td>\n",
       "      <td>0.093366</td>\n",
       "      <td>0.124079</td>\n",
       "      <td>0.081081</td>\n",
       "      <td>0.175676</td>\n",
       "      <td>0.025799</td>\n",
       "      <td>0.068796</td>\n",
       "      <td>0.039312</td>\n",
       "    </tr>\n",
       "  </tbody>\n",
       "</table>\n",
       "</div>"
      ],
      "text/plain": [
       "              Age  Annual Income ($)  Spending Score (1-100)  Work Experience  \\\n",
       "clust_h                                                                         \n",
       "0        0.493161           0.581941                0.509747         0.237377   \n",
       "1        0.496563           0.584245                0.509447         0.247073   \n",
       "\n",
       "         Family Size  Gender_Female  Gender_Male  Profession_Artist  \\\n",
       "clust_h                                                               \n",
       "0           0.346016            1.0          0.0           0.320405   \n",
       "1           0.346130            0.0          1.0           0.285012   \n",
       "\n",
       "         Profession_Doctor  Profession_Engineer  Profession_Entertainment  \\\n",
       "clust_h                                                                     \n",
       "0                 0.075042             0.086847                  0.112142   \n",
       "1                 0.088452             0.093366                  0.124079   \n",
       "\n",
       "         Profession_Executive  Profession_Healthcare  Profession_Homemaker  \\\n",
       "clust_h                                                                      \n",
       "0                    0.073356               0.165261              0.032884   \n",
       "1                    0.081081               0.175676              0.025799   \n",
       "\n",
       "         Profession_Lawyer  Profession_Marketing  \n",
       "clust_h                                           \n",
       "0                 0.072513              0.044688  \n",
       "1                 0.068796              0.039312  "
      ]
     },
     "execution_count": 37,
     "metadata": {},
     "output_type": "execute_result"
    }
   ],
   "source": [
    "data_clust_h.groupby(\"clust_h\").mean()"
   ]
  },
  {
   "cell_type": "code",
   "execution_count": 38,
   "id": "7a3a8568",
   "metadata": {
    "execution": {
     "iopub.execute_input": "2023-05-04T22:18:01.261182Z",
     "iopub.status.busy": "2023-05-04T22:18:01.260052Z",
     "iopub.status.idle": "2023-05-04T22:18:01.324928Z",
     "shell.execute_reply": "2023-05-04T22:18:01.323746Z"
    },
    "papermill": {
     "duration": 0.097146,
     "end_time": "2023-05-04T22:18:01.329031",
     "exception": false,
     "start_time": "2023-05-04T22:18:01.231885",
     "status": "completed"
    },
    "tags": []
   },
   "outputs": [
    {
     "name": "stdout",
     "output_type": "stream",
     "text": [
      "Cluster  0\n",
      "\n"
     ]
    },
    {
     "data": {
      "text/html": [
       "<div>\n",
       "<style scoped>\n",
       "    .dataframe tbody tr th:only-of-type {\n",
       "        vertical-align: middle;\n",
       "    }\n",
       "\n",
       "    .dataframe tbody tr th {\n",
       "        vertical-align: top;\n",
       "    }\n",
       "\n",
       "    .dataframe thead th {\n",
       "        text-align: right;\n",
       "    }\n",
       "</style>\n",
       "<table border=\"1\" class=\"dataframe\">\n",
       "  <thead>\n",
       "    <tr style=\"text-align: right;\">\n",
       "      <th></th>\n",
       "      <th>Age</th>\n",
       "      <th>Annual Income ($)</th>\n",
       "      <th>Spending Score (1-100)</th>\n",
       "      <th>Work Experience</th>\n",
       "      <th>Family Size</th>\n",
       "      <th>Gender_Female</th>\n",
       "      <th>Gender_Male</th>\n",
       "      <th>Profession_Artist</th>\n",
       "      <th>Profession_Doctor</th>\n",
       "      <th>Profession_Engineer</th>\n",
       "      <th>Profession_Entertainment</th>\n",
       "      <th>Profession_Executive</th>\n",
       "      <th>Profession_Healthcare</th>\n",
       "      <th>Profession_Homemaker</th>\n",
       "      <th>Profession_Lawyer</th>\n",
       "      <th>Profession_Marketing</th>\n",
       "      <th>clust_h</th>\n",
       "    </tr>\n",
       "  </thead>\n",
       "  <tbody>\n",
       "    <tr>\n",
       "      <th>2</th>\n",
       "      <td>0.202020</td>\n",
       "      <td>0.452694</td>\n",
       "      <td>0.06</td>\n",
       "      <td>0.058824</td>\n",
       "      <td>0.000</td>\n",
       "      <td>1.0</td>\n",
       "      <td>0.0</td>\n",
       "      <td>0.0</td>\n",
       "      <td>0.0</td>\n",
       "      <td>1.0</td>\n",
       "      <td>0.0</td>\n",
       "      <td>0.0</td>\n",
       "      <td>0.0</td>\n",
       "      <td>0.0</td>\n",
       "      <td>0.0</td>\n",
       "      <td>0.0</td>\n",
       "      <td>0</td>\n",
       "    </tr>\n",
       "    <tr>\n",
       "      <th>3</th>\n",
       "      <td>0.232323</td>\n",
       "      <td>0.310569</td>\n",
       "      <td>0.77</td>\n",
       "      <td>0.000000</td>\n",
       "      <td>0.125</td>\n",
       "      <td>1.0</td>\n",
       "      <td>0.0</td>\n",
       "      <td>0.0</td>\n",
       "      <td>0.0</td>\n",
       "      <td>0.0</td>\n",
       "      <td>0.0</td>\n",
       "      <td>0.0</td>\n",
       "      <td>0.0</td>\n",
       "      <td>0.0</td>\n",
       "      <td>1.0</td>\n",
       "      <td>0.0</td>\n",
       "      <td>0</td>\n",
       "    </tr>\n",
       "    <tr>\n",
       "      <th>4</th>\n",
       "      <td>0.313131</td>\n",
       "      <td>0.200027</td>\n",
       "      <td>0.40</td>\n",
       "      <td>0.117647</td>\n",
       "      <td>0.625</td>\n",
       "      <td>1.0</td>\n",
       "      <td>0.0</td>\n",
       "      <td>0.0</td>\n",
       "      <td>0.0</td>\n",
       "      <td>0.0</td>\n",
       "      <td>1.0</td>\n",
       "      <td>0.0</td>\n",
       "      <td>0.0</td>\n",
       "      <td>0.0</td>\n",
       "      <td>0.0</td>\n",
       "      <td>0.0</td>\n",
       "      <td>0</td>\n",
       "    </tr>\n",
       "    <tr>\n",
       "      <th>5</th>\n",
       "      <td>0.222222</td>\n",
       "      <td>0.305305</td>\n",
       "      <td>0.76</td>\n",
       "      <td>0.000000</td>\n",
       "      <td>0.125</td>\n",
       "      <td>1.0</td>\n",
       "      <td>0.0</td>\n",
       "      <td>1.0</td>\n",
       "      <td>0.0</td>\n",
       "      <td>0.0</td>\n",
       "      <td>0.0</td>\n",
       "      <td>0.0</td>\n",
       "      <td>0.0</td>\n",
       "      <td>0.0</td>\n",
       "      <td>0.0</td>\n",
       "      <td>0.0</td>\n",
       "      <td>0</td>\n",
       "    </tr>\n",
       "    <tr>\n",
       "      <th>6</th>\n",
       "      <td>0.353535</td>\n",
       "      <td>0.163180</td>\n",
       "      <td>0.06</td>\n",
       "      <td>0.058824</td>\n",
       "      <td>0.250</td>\n",
       "      <td>1.0</td>\n",
       "      <td>0.0</td>\n",
       "      <td>0.0</td>\n",
       "      <td>0.0</td>\n",
       "      <td>0.0</td>\n",
       "      <td>0.0</td>\n",
       "      <td>0.0</td>\n",
       "      <td>1.0</td>\n",
       "      <td>0.0</td>\n",
       "      <td>0.0</td>\n",
       "      <td>0.0</td>\n",
       "      <td>0</td>\n",
       "    </tr>\n",
       "    <tr>\n",
       "      <th>...</th>\n",
       "      <td>...</td>\n",
       "      <td>...</td>\n",
       "      <td>...</td>\n",
       "      <td>...</td>\n",
       "      <td>...</td>\n",
       "      <td>...</td>\n",
       "      <td>...</td>\n",
       "      <td>...</td>\n",
       "      <td>...</td>\n",
       "      <td>...</td>\n",
       "      <td>...</td>\n",
       "      <td>...</td>\n",
       "      <td>...</td>\n",
       "      <td>...</td>\n",
       "      <td>...</td>\n",
       "      <td>...</td>\n",
       "      <td>...</td>\n",
       "    </tr>\n",
       "    <tr>\n",
       "      <th>1991</th>\n",
       "      <td>0.979798</td>\n",
       "      <td>0.681377</td>\n",
       "      <td>0.96</td>\n",
       "      <td>0.294118</td>\n",
       "      <td>0.625</td>\n",
       "      <td>1.0</td>\n",
       "      <td>0.0</td>\n",
       "      <td>0.0</td>\n",
       "      <td>0.0</td>\n",
       "      <td>0.0</td>\n",
       "      <td>1.0</td>\n",
       "      <td>0.0</td>\n",
       "      <td>0.0</td>\n",
       "      <td>0.0</td>\n",
       "      <td>0.0</td>\n",
       "      <td>0.0</td>\n",
       "      <td>0</td>\n",
       "    </tr>\n",
       "    <tr>\n",
       "      <th>1993</th>\n",
       "      <td>0.646465</td>\n",
       "      <td>0.922516</td>\n",
       "      <td>1.00</td>\n",
       "      <td>0.529412</td>\n",
       "      <td>0.500</td>\n",
       "      <td>1.0</td>\n",
       "      <td>0.0</td>\n",
       "      <td>1.0</td>\n",
       "      <td>0.0</td>\n",
       "      <td>0.0</td>\n",
       "      <td>0.0</td>\n",
       "      <td>0.0</td>\n",
       "      <td>0.0</td>\n",
       "      <td>0.0</td>\n",
       "      <td>0.0</td>\n",
       "      <td>0.0</td>\n",
       "      <td>0</td>\n",
       "    </tr>\n",
       "    <tr>\n",
       "      <th>1994</th>\n",
       "      <td>0.191919</td>\n",
       "      <td>0.284886</td>\n",
       "      <td>0.89</td>\n",
       "      <td>0.352941</td>\n",
       "      <td>0.250</td>\n",
       "      <td>1.0</td>\n",
       "      <td>0.0</td>\n",
       "      <td>0.0</td>\n",
       "      <td>0.0</td>\n",
       "      <td>1.0</td>\n",
       "      <td>0.0</td>\n",
       "      <td>0.0</td>\n",
       "      <td>0.0</td>\n",
       "      <td>0.0</td>\n",
       "      <td>0.0</td>\n",
       "      <td>0.0</td>\n",
       "      <td>0</td>\n",
       "    </tr>\n",
       "    <tr>\n",
       "      <th>1995</th>\n",
       "      <td>0.717172</td>\n",
       "      <td>0.970591</td>\n",
       "      <td>0.40</td>\n",
       "      <td>0.470588</td>\n",
       "      <td>0.750</td>\n",
       "      <td>1.0</td>\n",
       "      <td>0.0</td>\n",
       "      <td>1.0</td>\n",
       "      <td>0.0</td>\n",
       "      <td>0.0</td>\n",
       "      <td>0.0</td>\n",
       "      <td>0.0</td>\n",
       "      <td>0.0</td>\n",
       "      <td>0.0</td>\n",
       "      <td>0.0</td>\n",
       "      <td>0.0</td>\n",
       "      <td>0</td>\n",
       "    </tr>\n",
       "    <tr>\n",
       "      <th>1996</th>\n",
       "      <td>0.919192</td>\n",
       "      <td>0.385095</td>\n",
       "      <td>0.32</td>\n",
       "      <td>0.411765</td>\n",
       "      <td>0.750</td>\n",
       "      <td>1.0</td>\n",
       "      <td>0.0</td>\n",
       "      <td>0.0</td>\n",
       "      <td>1.0</td>\n",
       "      <td>0.0</td>\n",
       "      <td>0.0</td>\n",
       "      <td>0.0</td>\n",
       "      <td>0.0</td>\n",
       "      <td>0.0</td>\n",
       "      <td>0.0</td>\n",
       "      <td>0.0</td>\n",
       "      <td>0</td>\n",
       "    </tr>\n",
       "  </tbody>\n",
       "</table>\n",
       "<p>1186 rows × 17 columns</p>\n",
       "</div>"
      ],
      "text/plain": [
       "           Age  Annual Income ($)  Spending Score (1-100)  Work Experience  \\\n",
       "2     0.202020           0.452694                    0.06         0.058824   \n",
       "3     0.232323           0.310569                    0.77         0.000000   \n",
       "4     0.313131           0.200027                    0.40         0.117647   \n",
       "5     0.222222           0.305305                    0.76         0.000000   \n",
       "6     0.353535           0.163180                    0.06         0.058824   \n",
       "...        ...                ...                     ...              ...   \n",
       "1991  0.979798           0.681377                    0.96         0.294118   \n",
       "1993  0.646465           0.922516                    1.00         0.529412   \n",
       "1994  0.191919           0.284886                    0.89         0.352941   \n",
       "1995  0.717172           0.970591                    0.40         0.470588   \n",
       "1996  0.919192           0.385095                    0.32         0.411765   \n",
       "\n",
       "      Family Size  Gender_Female  Gender_Male  Profession_Artist  \\\n",
       "2           0.000            1.0          0.0                0.0   \n",
       "3           0.125            1.0          0.0                0.0   \n",
       "4           0.625            1.0          0.0                0.0   \n",
       "5           0.125            1.0          0.0                1.0   \n",
       "6           0.250            1.0          0.0                0.0   \n",
       "...           ...            ...          ...                ...   \n",
       "1991        0.625            1.0          0.0                0.0   \n",
       "1993        0.500            1.0          0.0                1.0   \n",
       "1994        0.250            1.0          0.0                0.0   \n",
       "1995        0.750            1.0          0.0                1.0   \n",
       "1996        0.750            1.0          0.0                0.0   \n",
       "\n",
       "      Profession_Doctor  Profession_Engineer  Profession_Entertainment  \\\n",
       "2                   0.0                  1.0                       0.0   \n",
       "3                   0.0                  0.0                       0.0   \n",
       "4                   0.0                  0.0                       1.0   \n",
       "5                   0.0                  0.0                       0.0   \n",
       "6                   0.0                  0.0                       0.0   \n",
       "...                 ...                  ...                       ...   \n",
       "1991                0.0                  0.0                       1.0   \n",
       "1993                0.0                  0.0                       0.0   \n",
       "1994                0.0                  1.0                       0.0   \n",
       "1995                0.0                  0.0                       0.0   \n",
       "1996                1.0                  0.0                       0.0   \n",
       "\n",
       "      Profession_Executive  Profession_Healthcare  Profession_Homemaker  \\\n",
       "2                      0.0                    0.0                   0.0   \n",
       "3                      0.0                    0.0                   0.0   \n",
       "4                      0.0                    0.0                   0.0   \n",
       "5                      0.0                    0.0                   0.0   \n",
       "6                      0.0                    1.0                   0.0   \n",
       "...                    ...                    ...                   ...   \n",
       "1991                   0.0                    0.0                   0.0   \n",
       "1993                   0.0                    0.0                   0.0   \n",
       "1994                   0.0                    0.0                   0.0   \n",
       "1995                   0.0                    0.0                   0.0   \n",
       "1996                   0.0                    0.0                   0.0   \n",
       "\n",
       "      Profession_Lawyer  Profession_Marketing  clust_h  \n",
       "2                   0.0                   0.0        0  \n",
       "3                   1.0                   0.0        0  \n",
       "4                   0.0                   0.0        0  \n",
       "5                   0.0                   0.0        0  \n",
       "6                   0.0                   0.0        0  \n",
       "...                 ...                   ...      ...  \n",
       "1991                0.0                   0.0        0  \n",
       "1993                0.0                   0.0        0  \n",
       "1994                0.0                   0.0        0  \n",
       "1995                0.0                   0.0        0  \n",
       "1996                0.0                   0.0        0  \n",
       "\n",
       "[1186 rows x 17 columns]"
      ]
     },
     "metadata": {},
     "output_type": "display_data"
    },
    {
     "name": "stdout",
     "output_type": "stream",
     "text": [
      "\n",
      " ---------------------------------------------------------------------------------------------------------------------------------------------------------------- \n",
      "\n",
      "Cluster  1\n",
      "\n"
     ]
    },
    {
     "data": {
      "text/html": [
       "<div>\n",
       "<style scoped>\n",
       "    .dataframe tbody tr th:only-of-type {\n",
       "        vertical-align: middle;\n",
       "    }\n",
       "\n",
       "    .dataframe tbody tr th {\n",
       "        vertical-align: top;\n",
       "    }\n",
       "\n",
       "    .dataframe thead th {\n",
       "        text-align: right;\n",
       "    }\n",
       "</style>\n",
       "<table border=\"1\" class=\"dataframe\">\n",
       "  <thead>\n",
       "    <tr style=\"text-align: right;\">\n",
       "      <th></th>\n",
       "      <th>Age</th>\n",
       "      <th>Annual Income ($)</th>\n",
       "      <th>Spending Score (1-100)</th>\n",
       "      <th>Work Experience</th>\n",
       "      <th>Family Size</th>\n",
       "      <th>Gender_Female</th>\n",
       "      <th>Gender_Male</th>\n",
       "      <th>Profession_Artist</th>\n",
       "      <th>Profession_Doctor</th>\n",
       "      <th>Profession_Engineer</th>\n",
       "      <th>Profession_Entertainment</th>\n",
       "      <th>Profession_Executive</th>\n",
       "      <th>Profession_Healthcare</th>\n",
       "      <th>Profession_Homemaker</th>\n",
       "      <th>Profession_Lawyer</th>\n",
       "      <th>Profession_Marketing</th>\n",
       "      <th>clust_h</th>\n",
       "    </tr>\n",
       "  </thead>\n",
       "  <tbody>\n",
       "    <tr>\n",
       "      <th>0</th>\n",
       "      <td>0.191919</td>\n",
       "      <td>0.078958</td>\n",
       "      <td>0.39</td>\n",
       "      <td>0.058824</td>\n",
       "      <td>0.375</td>\n",
       "      <td>0.0</td>\n",
       "      <td>1.0</td>\n",
       "      <td>0.0</td>\n",
       "      <td>0.0</td>\n",
       "      <td>0.0</td>\n",
       "      <td>0.0</td>\n",
       "      <td>0.0</td>\n",
       "      <td>1.0</td>\n",
       "      <td>0.0</td>\n",
       "      <td>0.0</td>\n",
       "      <td>0.0</td>\n",
       "      <td>1</td>\n",
       "    </tr>\n",
       "    <tr>\n",
       "      <th>1</th>\n",
       "      <td>0.212121</td>\n",
       "      <td>0.184236</td>\n",
       "      <td>0.81</td>\n",
       "      <td>0.176471</td>\n",
       "      <td>0.250</td>\n",
       "      <td>0.0</td>\n",
       "      <td>1.0</td>\n",
       "      <td>0.0</td>\n",
       "      <td>0.0</td>\n",
       "      <td>1.0</td>\n",
       "      <td>0.0</td>\n",
       "      <td>0.0</td>\n",
       "      <td>0.0</td>\n",
       "      <td>0.0</td>\n",
       "      <td>0.0</td>\n",
       "      <td>0.0</td>\n",
       "      <td>1</td>\n",
       "    </tr>\n",
       "    <tr>\n",
       "      <th>8</th>\n",
       "      <td>0.646465</td>\n",
       "      <td>0.510596</td>\n",
       "      <td>0.03</td>\n",
       "      <td>0.000000</td>\n",
       "      <td>0.250</td>\n",
       "      <td>0.0</td>\n",
       "      <td>1.0</td>\n",
       "      <td>0.0</td>\n",
       "      <td>0.0</td>\n",
       "      <td>1.0</td>\n",
       "      <td>0.0</td>\n",
       "      <td>0.0</td>\n",
       "      <td>0.0</td>\n",
       "      <td>0.0</td>\n",
       "      <td>0.0</td>\n",
       "      <td>0.0</td>\n",
       "      <td>1</td>\n",
       "    </tr>\n",
       "    <tr>\n",
       "      <th>10</th>\n",
       "      <td>0.676768</td>\n",
       "      <td>0.036847</td>\n",
       "      <td>0.14</td>\n",
       "      <td>0.058824</td>\n",
       "      <td>0.250</td>\n",
       "      <td>0.0</td>\n",
       "      <td>1.0</td>\n",
       "      <td>0.0</td>\n",
       "      <td>0.0</td>\n",
       "      <td>1.0</td>\n",
       "      <td>0.0</td>\n",
       "      <td>0.0</td>\n",
       "      <td>0.0</td>\n",
       "      <td>0.0</td>\n",
       "      <td>0.0</td>\n",
       "      <td>0.0</td>\n",
       "      <td>1</td>\n",
       "    </tr>\n",
       "    <tr>\n",
       "      <th>14</th>\n",
       "      <td>0.373737</td>\n",
       "      <td>0.100014</td>\n",
       "      <td>0.13</td>\n",
       "      <td>0.000000</td>\n",
       "      <td>0.000</td>\n",
       "      <td>0.0</td>\n",
       "      <td>1.0</td>\n",
       "      <td>0.0</td>\n",
       "      <td>1.0</td>\n",
       "      <td>0.0</td>\n",
       "      <td>0.0</td>\n",
       "      <td>0.0</td>\n",
       "      <td>0.0</td>\n",
       "      <td>0.0</td>\n",
       "      <td>0.0</td>\n",
       "      <td>0.0</td>\n",
       "      <td>1</td>\n",
       "    </tr>\n",
       "    <tr>\n",
       "      <th>...</th>\n",
       "      <td>...</td>\n",
       "      <td>...</td>\n",
       "      <td>...</td>\n",
       "      <td>...</td>\n",
       "      <td>...</td>\n",
       "      <td>...</td>\n",
       "      <td>...</td>\n",
       "      <td>...</td>\n",
       "      <td>...</td>\n",
       "      <td>...</td>\n",
       "      <td>...</td>\n",
       "      <td>...</td>\n",
       "      <td>...</td>\n",
       "      <td>...</td>\n",
       "      <td>...</td>\n",
       "      <td>...</td>\n",
       "      <td>...</td>\n",
       "    </tr>\n",
       "    <tr>\n",
       "      <th>1987</th>\n",
       "      <td>0.636364</td>\n",
       "      <td>0.311853</td>\n",
       "      <td>0.80</td>\n",
       "      <td>0.411765</td>\n",
       "      <td>0.000</td>\n",
       "      <td>0.0</td>\n",
       "      <td>1.0</td>\n",
       "      <td>1.0</td>\n",
       "      <td>0.0</td>\n",
       "      <td>0.0</td>\n",
       "      <td>0.0</td>\n",
       "      <td>0.0</td>\n",
       "      <td>0.0</td>\n",
       "      <td>0.0</td>\n",
       "      <td>0.0</td>\n",
       "      <td>0.0</td>\n",
       "      <td>1</td>\n",
       "    </tr>\n",
       "    <tr>\n",
       "      <th>1992</th>\n",
       "      <td>0.949495</td>\n",
       "      <td>0.953725</td>\n",
       "      <td>0.24</td>\n",
       "      <td>0.529412</td>\n",
       "      <td>0.250</td>\n",
       "      <td>0.0</td>\n",
       "      <td>1.0</td>\n",
       "      <td>0.0</td>\n",
       "      <td>0.0</td>\n",
       "      <td>0.0</td>\n",
       "      <td>0.0</td>\n",
       "      <td>0.0</td>\n",
       "      <td>0.0</td>\n",
       "      <td>0.0</td>\n",
       "      <td>0.0</td>\n",
       "      <td>1.0</td>\n",
       "      <td>1</td>\n",
       "    </tr>\n",
       "    <tr>\n",
       "      <th>1997</th>\n",
       "      <td>0.878788</td>\n",
       "      <td>0.478808</td>\n",
       "      <td>0.14</td>\n",
       "      <td>0.529412</td>\n",
       "      <td>0.125</td>\n",
       "      <td>0.0</td>\n",
       "      <td>1.0</td>\n",
       "      <td>0.0</td>\n",
       "      <td>0.0</td>\n",
       "      <td>0.0</td>\n",
       "      <td>0.0</td>\n",
       "      <td>0.0</td>\n",
       "      <td>1.0</td>\n",
       "      <td>0.0</td>\n",
       "      <td>0.0</td>\n",
       "      <td>0.0</td>\n",
       "      <td>1</td>\n",
       "    </tr>\n",
       "    <tr>\n",
       "      <th>1998</th>\n",
       "      <td>0.777778</td>\n",
       "      <td>0.958600</td>\n",
       "      <td>0.04</td>\n",
       "      <td>0.411765</td>\n",
       "      <td>0.125</td>\n",
       "      <td>0.0</td>\n",
       "      <td>1.0</td>\n",
       "      <td>0.0</td>\n",
       "      <td>0.0</td>\n",
       "      <td>0.0</td>\n",
       "      <td>0.0</td>\n",
       "      <td>1.0</td>\n",
       "      <td>0.0</td>\n",
       "      <td>0.0</td>\n",
       "      <td>0.0</td>\n",
       "      <td>0.0</td>\n",
       "      <td>1</td>\n",
       "    </tr>\n",
       "    <tr>\n",
       "      <th>1999</th>\n",
       "      <td>0.909091</td>\n",
       "      <td>0.582238</td>\n",
       "      <td>0.52</td>\n",
       "      <td>0.294118</td>\n",
       "      <td>0.125</td>\n",
       "      <td>0.0</td>\n",
       "      <td>1.0</td>\n",
       "      <td>0.0</td>\n",
       "      <td>0.0</td>\n",
       "      <td>0.0</td>\n",
       "      <td>1.0</td>\n",
       "      <td>0.0</td>\n",
       "      <td>0.0</td>\n",
       "      <td>0.0</td>\n",
       "      <td>0.0</td>\n",
       "      <td>0.0</td>\n",
       "      <td>1</td>\n",
       "    </tr>\n",
       "  </tbody>\n",
       "</table>\n",
       "<p>814 rows × 17 columns</p>\n",
       "</div>"
      ],
      "text/plain": [
       "           Age  Annual Income ($)  Spending Score (1-100)  Work Experience  \\\n",
       "0     0.191919           0.078958                    0.39         0.058824   \n",
       "1     0.212121           0.184236                    0.81         0.176471   \n",
       "8     0.646465           0.510596                    0.03         0.000000   \n",
       "10    0.676768           0.036847                    0.14         0.058824   \n",
       "14    0.373737           0.100014                    0.13         0.000000   \n",
       "...        ...                ...                     ...              ...   \n",
       "1987  0.636364           0.311853                    0.80         0.411765   \n",
       "1992  0.949495           0.953725                    0.24         0.529412   \n",
       "1997  0.878788           0.478808                    0.14         0.529412   \n",
       "1998  0.777778           0.958600                    0.04         0.411765   \n",
       "1999  0.909091           0.582238                    0.52         0.294118   \n",
       "\n",
       "      Family Size  Gender_Female  Gender_Male  Profession_Artist  \\\n",
       "0           0.375            0.0          1.0                0.0   \n",
       "1           0.250            0.0          1.0                0.0   \n",
       "8           0.250            0.0          1.0                0.0   \n",
       "10          0.250            0.0          1.0                0.0   \n",
       "14          0.000            0.0          1.0                0.0   \n",
       "...           ...            ...          ...                ...   \n",
       "1987        0.000            0.0          1.0                1.0   \n",
       "1992        0.250            0.0          1.0                0.0   \n",
       "1997        0.125            0.0          1.0                0.0   \n",
       "1998        0.125            0.0          1.0                0.0   \n",
       "1999        0.125            0.0          1.0                0.0   \n",
       "\n",
       "      Profession_Doctor  Profession_Engineer  Profession_Entertainment  \\\n",
       "0                   0.0                  0.0                       0.0   \n",
       "1                   0.0                  1.0                       0.0   \n",
       "8                   0.0                  1.0                       0.0   \n",
       "10                  0.0                  1.0                       0.0   \n",
       "14                  1.0                  0.0                       0.0   \n",
       "...                 ...                  ...                       ...   \n",
       "1987                0.0                  0.0                       0.0   \n",
       "1992                0.0                  0.0                       0.0   \n",
       "1997                0.0                  0.0                       0.0   \n",
       "1998                0.0                  0.0                       0.0   \n",
       "1999                0.0                  0.0                       1.0   \n",
       "\n",
       "      Profession_Executive  Profession_Healthcare  Profession_Homemaker  \\\n",
       "0                      0.0                    1.0                   0.0   \n",
       "1                      0.0                    0.0                   0.0   \n",
       "8                      0.0                    0.0                   0.0   \n",
       "10                     0.0                    0.0                   0.0   \n",
       "14                     0.0                    0.0                   0.0   \n",
       "...                    ...                    ...                   ...   \n",
       "1987                   0.0                    0.0                   0.0   \n",
       "1992                   0.0                    0.0                   0.0   \n",
       "1997                   0.0                    1.0                   0.0   \n",
       "1998                   1.0                    0.0                   0.0   \n",
       "1999                   0.0                    0.0                   0.0   \n",
       "\n",
       "      Profession_Lawyer  Profession_Marketing  clust_h  \n",
       "0                   0.0                   0.0        1  \n",
       "1                   0.0                   0.0        1  \n",
       "8                   0.0                   0.0        1  \n",
       "10                  0.0                   0.0        1  \n",
       "14                  0.0                   0.0        1  \n",
       "...                 ...                   ...      ...  \n",
       "1987                0.0                   0.0        1  \n",
       "1992                0.0                   1.0        1  \n",
       "1997                0.0                   0.0        1  \n",
       "1998                0.0                   0.0        1  \n",
       "1999                0.0                   0.0        1  \n",
       "\n",
       "[814 rows x 17 columns]"
      ]
     },
     "metadata": {},
     "output_type": "display_data"
    },
    {
     "name": "stdout",
     "output_type": "stream",
     "text": [
      "\n",
      " ---------------------------------------------------------------------------------------------------------------------------------------------------------------- \n",
      "\n"
     ]
    }
   ],
   "source": [
    "for nom, df in data_clust_h.groupby(\"clust_h\"):\n",
    "    print(\"Cluster \",nom)\n",
    "    print()\n",
    "    display(df)\n",
    "    print(\"\\n\",\"-\"*160,\"\\n\")"
   ]
  },
  {
   "cell_type": "code",
   "execution_count": null,
   "id": "f4bf8778",
   "metadata": {
    "papermill": {
     "duration": 0.028626,
     "end_time": "2023-05-04T22:18:01.384695",
     "exception": false,
     "start_time": "2023-05-04T22:18:01.356069",
     "status": "completed"
    },
    "tags": []
   },
   "outputs": [],
   "source": []
  }
 ],
 "metadata": {
  "kernelspec": {
   "display_name": "Python 3",
   "language": "python",
   "name": "python3"
  },
  "language_info": {
   "codemirror_mode": {
    "name": "ipython",
    "version": 3
   },
   "file_extension": ".py",
   "mimetype": "text/x-python",
   "name": "python",
   "nbconvert_exporter": "python",
   "pygments_lexer": "ipython3",
   "version": "3.10.10"
  },
  "papermill": {
   "default_parameters": {},
   "duration": 43.712967,
   "end_time": "2023-05-04T22:18:02.537053",
   "environment_variables": {},
   "exception": null,
   "input_path": "__notebook__.ipynb",
   "output_path": "__notebook__.ipynb",
   "parameters": {},
   "start_time": "2023-05-04T22:17:18.824086",
   "version": "2.4.0"
  }
 },
 "nbformat": 4,
 "nbformat_minor": 5
}
